{
  "nbformat": 4,
  "nbformat_minor": 0,
  "metadata": {
    "colab": {
      "provenance": []
    },
    "kernelspec": {
      "name": "python3",
      "display_name": "Python 3"
    },
    "language_info": {
      "name": "python"
    }
  },
  "cells": [
    {
      "cell_type": "code",
      "metadata": {
        "id": "eqp7Q6rWnX20"
      },
      "source": [
        "#Social_Network_Ads.csv"
      ],
      "execution_count": 353,
      "outputs": []
    },
    {
      "cell_type": "markdown",
      "metadata": {
        "id": "1jSlqZcZnmrD"
      },
      "source": [
        "**Importing the libraries**"
      ]
    },
    {
      "cell_type": "code",
      "metadata": {
        "id": "ACJTKMfInp-E"
      },
      "source": [
        "import pandas as pd\n",
        "import numpy as np\n",
        "import matplotlib.pyplot as plt\n",
        "import seaborn as sns\n",
        "from sklearn.metrics import accuracy_score,confusion_matrix,classification_report\n",
        "from sklearn.preprocessing import MinMaxScaler\n",
        "from sklearn.model_selection import train_test_split\n",
        "from sklearn.ensemble import RandomForestClassifier\n",
        "from sklearn.feature_selection import SelectFromModel\n",
        "from sklearn import tree\n",
        "import graphviz"
      ],
      "execution_count": 354,
      "outputs": []
    },
    {
      "cell_type": "markdown",
      "metadata": {
        "id": "fRZkaj-dnxIj"
      },
      "source": [
        "**Importing the dataset**"
      ]
    },
    {
      "cell_type": "code",
      "metadata": {
        "id": "SfTR4mVDnqBV",
        "colab": {
          "base_uri": "https://localhost:8080/",
          "height": 206
        },
        "outputId": "e57b1e9f-d314-4371-ba55-a5ee09936621"
      },
      "source": [
        "df=pd.read_csv('/content/drive/MyDrive/Task7/Assignment11_to_16/Social_Network_Ads.csv')\n",
        "df.head()"
      ],
      "execution_count": 355,
      "outputs": [
        {
          "output_type": "execute_result",
          "data": {
            "text/plain": [
              "    User ID  Gender  Age  EstimatedSalary  Purchased\n",
              "0  15624510    Male   19            19000          0\n",
              "1  15810944    Male   35            20000          0\n",
              "2  15668575  Female   26            43000          0\n",
              "3  15603246  Female   27            57000          0\n",
              "4  15804002    Male   19            76000          0"
            ],
            "text/html": [
              "\n",
              "  <div id=\"df-bb6db3d1-aa7b-4480-af93-be4ab4d1c5f4\">\n",
              "    <div class=\"colab-df-container\">\n",
              "      <div>\n",
              "<style scoped>\n",
              "    .dataframe tbody tr th:only-of-type {\n",
              "        vertical-align: middle;\n",
              "    }\n",
              "\n",
              "    .dataframe tbody tr th {\n",
              "        vertical-align: top;\n",
              "    }\n",
              "\n",
              "    .dataframe thead th {\n",
              "        text-align: right;\n",
              "    }\n",
              "</style>\n",
              "<table border=\"1\" class=\"dataframe\">\n",
              "  <thead>\n",
              "    <tr style=\"text-align: right;\">\n",
              "      <th></th>\n",
              "      <th>User ID</th>\n",
              "      <th>Gender</th>\n",
              "      <th>Age</th>\n",
              "      <th>EstimatedSalary</th>\n",
              "      <th>Purchased</th>\n",
              "    </tr>\n",
              "  </thead>\n",
              "  <tbody>\n",
              "    <tr>\n",
              "      <th>0</th>\n",
              "      <td>15624510</td>\n",
              "      <td>Male</td>\n",
              "      <td>19</td>\n",
              "      <td>19000</td>\n",
              "      <td>0</td>\n",
              "    </tr>\n",
              "    <tr>\n",
              "      <th>1</th>\n",
              "      <td>15810944</td>\n",
              "      <td>Male</td>\n",
              "      <td>35</td>\n",
              "      <td>20000</td>\n",
              "      <td>0</td>\n",
              "    </tr>\n",
              "    <tr>\n",
              "      <th>2</th>\n",
              "      <td>15668575</td>\n",
              "      <td>Female</td>\n",
              "      <td>26</td>\n",
              "      <td>43000</td>\n",
              "      <td>0</td>\n",
              "    </tr>\n",
              "    <tr>\n",
              "      <th>3</th>\n",
              "      <td>15603246</td>\n",
              "      <td>Female</td>\n",
              "      <td>27</td>\n",
              "      <td>57000</td>\n",
              "      <td>0</td>\n",
              "    </tr>\n",
              "    <tr>\n",
              "      <th>4</th>\n",
              "      <td>15804002</td>\n",
              "      <td>Male</td>\n",
              "      <td>19</td>\n",
              "      <td>76000</td>\n",
              "      <td>0</td>\n",
              "    </tr>\n",
              "  </tbody>\n",
              "</table>\n",
              "</div>\n",
              "      <button class=\"colab-df-convert\" onclick=\"convertToInteractive('df-bb6db3d1-aa7b-4480-af93-be4ab4d1c5f4')\"\n",
              "              title=\"Convert this dataframe to an interactive table.\"\n",
              "              style=\"display:none;\">\n",
              "        \n",
              "  <svg xmlns=\"http://www.w3.org/2000/svg\" height=\"24px\"viewBox=\"0 0 24 24\"\n",
              "       width=\"24px\">\n",
              "    <path d=\"M0 0h24v24H0V0z\" fill=\"none\"/>\n",
              "    <path d=\"M18.56 5.44l.94 2.06.94-2.06 2.06-.94-2.06-.94-.94-2.06-.94 2.06-2.06.94zm-11 1L8.5 8.5l.94-2.06 2.06-.94-2.06-.94L8.5 2.5l-.94 2.06-2.06.94zm10 10l.94 2.06.94-2.06 2.06-.94-2.06-.94-.94-2.06-.94 2.06-2.06.94z\"/><path d=\"M17.41 7.96l-1.37-1.37c-.4-.4-.92-.59-1.43-.59-.52 0-1.04.2-1.43.59L10.3 9.45l-7.72 7.72c-.78.78-.78 2.05 0 2.83L4 21.41c.39.39.9.59 1.41.59.51 0 1.02-.2 1.41-.59l7.78-7.78 2.81-2.81c.8-.78.8-2.07 0-2.86zM5.41 20L4 18.59l7.72-7.72 1.47 1.35L5.41 20z\"/>\n",
              "  </svg>\n",
              "      </button>\n",
              "      \n",
              "  <style>\n",
              "    .colab-df-container {\n",
              "      display:flex;\n",
              "      flex-wrap:wrap;\n",
              "      gap: 12px;\n",
              "    }\n",
              "\n",
              "    .colab-df-convert {\n",
              "      background-color: #E8F0FE;\n",
              "      border: none;\n",
              "      border-radius: 50%;\n",
              "      cursor: pointer;\n",
              "      display: none;\n",
              "      fill: #1967D2;\n",
              "      height: 32px;\n",
              "      padding: 0 0 0 0;\n",
              "      width: 32px;\n",
              "    }\n",
              "\n",
              "    .colab-df-convert:hover {\n",
              "      background-color: #E2EBFA;\n",
              "      box-shadow: 0px 1px 2px rgba(60, 64, 67, 0.3), 0px 1px 3px 1px rgba(60, 64, 67, 0.15);\n",
              "      fill: #174EA6;\n",
              "    }\n",
              "\n",
              "    [theme=dark] .colab-df-convert {\n",
              "      background-color: #3B4455;\n",
              "      fill: #D2E3FC;\n",
              "    }\n",
              "\n",
              "    [theme=dark] .colab-df-convert:hover {\n",
              "      background-color: #434B5C;\n",
              "      box-shadow: 0px 1px 3px 1px rgba(0, 0, 0, 0.15);\n",
              "      filter: drop-shadow(0px 1px 2px rgba(0, 0, 0, 0.3));\n",
              "      fill: #FFFFFF;\n",
              "    }\n",
              "  </style>\n",
              "\n",
              "      <script>\n",
              "        const buttonEl =\n",
              "          document.querySelector('#df-bb6db3d1-aa7b-4480-af93-be4ab4d1c5f4 button.colab-df-convert');\n",
              "        buttonEl.style.display =\n",
              "          google.colab.kernel.accessAllowed ? 'block' : 'none';\n",
              "\n",
              "        async function convertToInteractive(key) {\n",
              "          const element = document.querySelector('#df-bb6db3d1-aa7b-4480-af93-be4ab4d1c5f4');\n",
              "          const dataTable =\n",
              "            await google.colab.kernel.invokeFunction('convertToInteractive',\n",
              "                                                     [key], {});\n",
              "          if (!dataTable) return;\n",
              "\n",
              "          const docLinkHtml = 'Like what you see? Visit the ' +\n",
              "            '<a target=\"_blank\" href=https://colab.research.google.com/notebooks/data_table.ipynb>data table notebook</a>'\n",
              "            + ' to learn more about interactive tables.';\n",
              "          element.innerHTML = '';\n",
              "          dataTable['output_type'] = 'display_data';\n",
              "          await google.colab.output.renderOutput(dataTable, element);\n",
              "          const docLink = document.createElement('div');\n",
              "          docLink.innerHTML = docLinkHtml;\n",
              "          element.appendChild(docLink);\n",
              "        }\n",
              "      </script>\n",
              "    </div>\n",
              "  </div>\n",
              "  "
            ]
          },
          "metadata": {},
          "execution_count": 355
        }
      ]
    },
    {
      "cell_type": "code",
      "source": [
        "print(df.info())"
      ],
      "metadata": {
        "colab": {
          "base_uri": "https://localhost:8080/"
        },
        "id": "7XLQXaSnybQR",
        "outputId": "0f3068fc-c0c3-4213-b52d-5553278c0c56"
      },
      "execution_count": 356,
      "outputs": [
        {
          "output_type": "stream",
          "name": "stdout",
          "text": [
            "<class 'pandas.core.frame.DataFrame'>\n",
            "RangeIndex: 400 entries, 0 to 399\n",
            "Data columns (total 5 columns):\n",
            " #   Column           Non-Null Count  Dtype \n",
            "---  ------           --------------  ----- \n",
            " 0   User ID          400 non-null    int64 \n",
            " 1   Gender           400 non-null    object\n",
            " 2   Age              400 non-null    int64 \n",
            " 3   EstimatedSalary  400 non-null    int64 \n",
            " 4   Purchased        400 non-null    int64 \n",
            "dtypes: int64(4), object(1)\n",
            "memory usage: 15.8+ KB\n",
            "None\n"
          ]
        }
      ]
    },
    {
      "cell_type": "code",
      "source": [
        "print(df.describe())"
      ],
      "metadata": {
        "colab": {
          "base_uri": "https://localhost:8080/"
        },
        "id": "8yKPfi9uzsGE",
        "outputId": "8b473a20-be93-4215-81e3-2c4182187dec"
      },
      "execution_count": 357,
      "outputs": [
        {
          "output_type": "stream",
          "name": "stdout",
          "text": [
            "            User ID         Age  EstimatedSalary   Purchased\n",
            "count  4.000000e+02  400.000000       400.000000  400.000000\n",
            "mean   1.569154e+07   37.655000     69742.500000    0.357500\n",
            "std    7.165832e+04   10.482877     34096.960282    0.479864\n",
            "min    1.556669e+07   18.000000     15000.000000    0.000000\n",
            "25%    1.562676e+07   29.750000     43000.000000    0.000000\n",
            "50%    1.569434e+07   37.000000     70000.000000    0.000000\n",
            "75%    1.575036e+07   46.000000     88000.000000    1.000000\n",
            "max    1.581524e+07   60.000000    150000.000000    1.000000\n"
          ]
        }
      ]
    },
    {
      "cell_type": "code",
      "source": [
        "#check missing values\n",
        "df.isnull().sum()"
      ],
      "metadata": {
        "colab": {
          "base_uri": "https://localhost:8080/"
        },
        "id": "4DYTiVyPznw2",
        "outputId": "c23ca136-6bcb-4df3-a4eb-2ef70bac8d18"
      },
      "execution_count": 358,
      "outputs": [
        {
          "output_type": "execute_result",
          "data": {
            "text/plain": [
              "User ID            0\n",
              "Gender             0\n",
              "Age                0\n",
              "EstimatedSalary    0\n",
              "Purchased          0\n",
              "dtype: int64"
            ]
          },
          "metadata": {},
          "execution_count": 358
        }
      ]
    },
    {
      "cell_type": "code",
      "source": [
        "#encoding\n",
        "df['Gender']=df['Gender'].map({'Male':1,'Female':0})\n",
        "df.head()"
      ],
      "metadata": {
        "colab": {
          "base_uri": "https://localhost:8080/",
          "height": 206
        },
        "id": "m66bWJFV0IOT",
        "outputId": "3fc7a5e3-3622-4dc6-e87f-1cdce0e841b4"
      },
      "execution_count": 359,
      "outputs": [
        {
          "output_type": "execute_result",
          "data": {
            "text/plain": [
              "    User ID  Gender  Age  EstimatedSalary  Purchased\n",
              "0  15624510       1   19            19000          0\n",
              "1  15810944       1   35            20000          0\n",
              "2  15668575       0   26            43000          0\n",
              "3  15603246       0   27            57000          0\n",
              "4  15804002       1   19            76000          0"
            ],
            "text/html": [
              "\n",
              "  <div id=\"df-2468abcb-f44c-45a4-86a0-3a730b89e6a4\">\n",
              "    <div class=\"colab-df-container\">\n",
              "      <div>\n",
              "<style scoped>\n",
              "    .dataframe tbody tr th:only-of-type {\n",
              "        vertical-align: middle;\n",
              "    }\n",
              "\n",
              "    .dataframe tbody tr th {\n",
              "        vertical-align: top;\n",
              "    }\n",
              "\n",
              "    .dataframe thead th {\n",
              "        text-align: right;\n",
              "    }\n",
              "</style>\n",
              "<table border=\"1\" class=\"dataframe\">\n",
              "  <thead>\n",
              "    <tr style=\"text-align: right;\">\n",
              "      <th></th>\n",
              "      <th>User ID</th>\n",
              "      <th>Gender</th>\n",
              "      <th>Age</th>\n",
              "      <th>EstimatedSalary</th>\n",
              "      <th>Purchased</th>\n",
              "    </tr>\n",
              "  </thead>\n",
              "  <tbody>\n",
              "    <tr>\n",
              "      <th>0</th>\n",
              "      <td>15624510</td>\n",
              "      <td>1</td>\n",
              "      <td>19</td>\n",
              "      <td>19000</td>\n",
              "      <td>0</td>\n",
              "    </tr>\n",
              "    <tr>\n",
              "      <th>1</th>\n",
              "      <td>15810944</td>\n",
              "      <td>1</td>\n",
              "      <td>35</td>\n",
              "      <td>20000</td>\n",
              "      <td>0</td>\n",
              "    </tr>\n",
              "    <tr>\n",
              "      <th>2</th>\n",
              "      <td>15668575</td>\n",
              "      <td>0</td>\n",
              "      <td>26</td>\n",
              "      <td>43000</td>\n",
              "      <td>0</td>\n",
              "    </tr>\n",
              "    <tr>\n",
              "      <th>3</th>\n",
              "      <td>15603246</td>\n",
              "      <td>0</td>\n",
              "      <td>27</td>\n",
              "      <td>57000</td>\n",
              "      <td>0</td>\n",
              "    </tr>\n",
              "    <tr>\n",
              "      <th>4</th>\n",
              "      <td>15804002</td>\n",
              "      <td>1</td>\n",
              "      <td>19</td>\n",
              "      <td>76000</td>\n",
              "      <td>0</td>\n",
              "    </tr>\n",
              "  </tbody>\n",
              "</table>\n",
              "</div>\n",
              "      <button class=\"colab-df-convert\" onclick=\"convertToInteractive('df-2468abcb-f44c-45a4-86a0-3a730b89e6a4')\"\n",
              "              title=\"Convert this dataframe to an interactive table.\"\n",
              "              style=\"display:none;\">\n",
              "        \n",
              "  <svg xmlns=\"http://www.w3.org/2000/svg\" height=\"24px\"viewBox=\"0 0 24 24\"\n",
              "       width=\"24px\">\n",
              "    <path d=\"M0 0h24v24H0V0z\" fill=\"none\"/>\n",
              "    <path d=\"M18.56 5.44l.94 2.06.94-2.06 2.06-.94-2.06-.94-.94-2.06-.94 2.06-2.06.94zm-11 1L8.5 8.5l.94-2.06 2.06-.94-2.06-.94L8.5 2.5l-.94 2.06-2.06.94zm10 10l.94 2.06.94-2.06 2.06-.94-2.06-.94-.94-2.06-.94 2.06-2.06.94z\"/><path d=\"M17.41 7.96l-1.37-1.37c-.4-.4-.92-.59-1.43-.59-.52 0-1.04.2-1.43.59L10.3 9.45l-7.72 7.72c-.78.78-.78 2.05 0 2.83L4 21.41c.39.39.9.59 1.41.59.51 0 1.02-.2 1.41-.59l7.78-7.78 2.81-2.81c.8-.78.8-2.07 0-2.86zM5.41 20L4 18.59l7.72-7.72 1.47 1.35L5.41 20z\"/>\n",
              "  </svg>\n",
              "      </button>\n",
              "      \n",
              "  <style>\n",
              "    .colab-df-container {\n",
              "      display:flex;\n",
              "      flex-wrap:wrap;\n",
              "      gap: 12px;\n",
              "    }\n",
              "\n",
              "    .colab-df-convert {\n",
              "      background-color: #E8F0FE;\n",
              "      border: none;\n",
              "      border-radius: 50%;\n",
              "      cursor: pointer;\n",
              "      display: none;\n",
              "      fill: #1967D2;\n",
              "      height: 32px;\n",
              "      padding: 0 0 0 0;\n",
              "      width: 32px;\n",
              "    }\n",
              "\n",
              "    .colab-df-convert:hover {\n",
              "      background-color: #E2EBFA;\n",
              "      box-shadow: 0px 1px 2px rgba(60, 64, 67, 0.3), 0px 1px 3px 1px rgba(60, 64, 67, 0.15);\n",
              "      fill: #174EA6;\n",
              "    }\n",
              "\n",
              "    [theme=dark] .colab-df-convert {\n",
              "      background-color: #3B4455;\n",
              "      fill: #D2E3FC;\n",
              "    }\n",
              "\n",
              "    [theme=dark] .colab-df-convert:hover {\n",
              "      background-color: #434B5C;\n",
              "      box-shadow: 0px 1px 3px 1px rgba(0, 0, 0, 0.15);\n",
              "      filter: drop-shadow(0px 1px 2px rgba(0, 0, 0, 0.3));\n",
              "      fill: #FFFFFF;\n",
              "    }\n",
              "  </style>\n",
              "\n",
              "      <script>\n",
              "        const buttonEl =\n",
              "          document.querySelector('#df-2468abcb-f44c-45a4-86a0-3a730b89e6a4 button.colab-df-convert');\n",
              "        buttonEl.style.display =\n",
              "          google.colab.kernel.accessAllowed ? 'block' : 'none';\n",
              "\n",
              "        async function convertToInteractive(key) {\n",
              "          const element = document.querySelector('#df-2468abcb-f44c-45a4-86a0-3a730b89e6a4');\n",
              "          const dataTable =\n",
              "            await google.colab.kernel.invokeFunction('convertToInteractive',\n",
              "                                                     [key], {});\n",
              "          if (!dataTable) return;\n",
              "\n",
              "          const docLinkHtml = 'Like what you see? Visit the ' +\n",
              "            '<a target=\"_blank\" href=https://colab.research.google.com/notebooks/data_table.ipynb>data table notebook</a>'\n",
              "            + ' to learn more about interactive tables.';\n",
              "          element.innerHTML = '';\n",
              "          dataTable['output_type'] = 'display_data';\n",
              "          await google.colab.output.renderOutput(dataTable, element);\n",
              "          const docLink = document.createElement('div');\n",
              "          docLink.innerHTML = docLinkHtml;\n",
              "          element.appendChild(docLink);\n",
              "        }\n",
              "      </script>\n",
              "    </div>\n",
              "  </div>\n",
              "  "
            ]
          },
          "metadata": {},
          "execution_count": 359
        }
      ]
    },
    {
      "cell_type": "markdown",
      "metadata": {
        "id": "9Thl3lvkn9Kr"
      },
      "source": [
        "**Splitting the dataset into the Training set and Test set**"
      ]
    },
    {
      "cell_type": "code",
      "source": [
        "#feature and target\n",
        "x=df[['Gender','Age','EstimatedSalary']]\n",
        "y=df['Purchased']"
      ],
      "metadata": {
        "id": "iQvpoahK0qW-"
      },
      "execution_count": 360,
      "outputs": []
    },
    {
      "cell_type": "code",
      "metadata": {
        "id": "sp359H4XnqD3"
      },
      "source": [
        "x_train,x_test,y_train,y_test=train_test_split(x,y,test_size=0.30,random_state=42)"
      ],
      "execution_count": 361,
      "outputs": []
    },
    {
      "cell_type": "code",
      "source": [
        "y_train.value_counts()"
      ],
      "metadata": {
        "colab": {
          "base_uri": "https://localhost:8080/"
        },
        "id": "RohcgWlLFjHn",
        "outputId": "39789be5-af01-4112-e173-6b883ce48f93"
      },
      "execution_count": 362,
      "outputs": [
        {
          "output_type": "execute_result",
          "data": {
            "text/plain": [
              "0    184\n",
              "1     96\n",
              "Name: Purchased, dtype: int64"
            ]
          },
          "metadata": {},
          "execution_count": 362
        }
      ]
    },
    {
      "cell_type": "markdown",
      "metadata": {
        "id": "XNNxUncRoG6K"
      },
      "source": [
        "**Feature Scaling**"
      ]
    },
    {
      "cell_type": "code",
      "source": [],
      "metadata": {
        "id": "crw1FAZPW3fX"
      },
      "execution_count": 362,
      "outputs": []
    },
    {
      "cell_type": "markdown",
      "metadata": {
        "id": "_VB4b09roPhq"
      },
      "source": [
        "**Fitting Random Forest to the Training set**"
      ]
    },
    {
      "cell_type": "code",
      "source": [
        "randomforest=RandomForestClassifier(random_state=0,n_jobs=-1,class_weight='balanced')"
      ],
      "metadata": {
        "id": "AwaT5TH35H3S"
      },
      "execution_count": 363,
      "outputs": []
    },
    {
      "cell_type": "code",
      "source": [
        "selector=SelectFromModel(randomforest,threshold=0.3)"
      ],
      "metadata": {
        "id": "HoOM_PiB6MMA"
      },
      "execution_count": 364,
      "outputs": []
    },
    {
      "cell_type": "code",
      "source": [
        "important_feature=selector.fit_transform(x,y)\n",
        "x=pd.DataFrame(important_feature,columns=['Age','EstmatedSalary'])\n",
        "x_columns=list(x.columns)\n",
        "y_columns=['Not Purchased','Purchased']"
      ],
      "metadata": {
        "id": "hMs5HEB0MXmi"
      },
      "execution_count": 365,
      "outputs": []
    },
    {
      "cell_type": "code",
      "source": [
        "x_train,x_test,y_train,y_test=train_test_split(x,y,test_size=0.3,random_state=42)"
      ],
      "metadata": {
        "id": "2FEhE0OxQBJK"
      },
      "execution_count": 366,
      "outputs": []
    },
    {
      "cell_type": "code",
      "source": [
        "randomforest.fit(x_train,y_train)"
      ],
      "metadata": {
        "colab": {
          "base_uri": "https://localhost:8080/"
        },
        "id": "Qcfq3tU85CEr",
        "outputId": "1b503ff7-f5b8-4bd8-ef9f-0f58f089cddc"
      },
      "execution_count": 367,
      "outputs": [
        {
          "output_type": "execute_result",
          "data": {
            "text/plain": [
              "RandomForestClassifier(class_weight='balanced', n_jobs=-1, random_state=0)"
            ]
          },
          "metadata": {},
          "execution_count": 367
        }
      ]
    },
    {
      "cell_type": "markdown",
      "metadata": {
        "id": "XOl6_ERWoYh2"
      },
      "source": [
        "**Predicting the Test set results**"
      ]
    },
    {
      "cell_type": "code",
      "metadata": {
        "id": "7xFCuAXjnqPN"
      },
      "source": [
        "y_pred=randomforest.predict(x_test)"
      ],
      "execution_count": 368,
      "outputs": []
    },
    {
      "cell_type": "code",
      "source": [
        "print('Model accuracy score with Gender feature removed','{:.4f}'.format(accuracy_score(y_test,y_pred)))"
      ],
      "metadata": {
        "colab": {
          "base_uri": "https://localhost:8080/"
        },
        "id": "xDQZqp8qRC7-",
        "outputId": "771c9eb0-4cc3-4c21-cbb3-b8488abf957f"
      },
      "execution_count": 369,
      "outputs": [
        {
          "output_type": "stream",
          "name": "stdout",
          "text": [
            "Model accuracy score with Gender feature removed 0.9083\n"
          ]
        }
      ]
    },
    {
      "cell_type": "markdown",
      "metadata": {
        "id": "pqaQ_HTZogaZ"
      },
      "source": [
        "**Making the Confusion Matrix**"
      ]
    },
    {
      "cell_type": "code",
      "metadata": {
        "id": "DdqNOMK8nqSs",
        "colab": {
          "base_uri": "https://localhost:8080/"
        },
        "outputId": "f2bc8b49-de94-401b-b4ff-7d4085f7f962"
      },
      "source": [
        "cnf=confusion_matrix(y_test,y_pred)\n",
        "cnf"
      ],
      "execution_count": 370,
      "outputs": [
        {
          "output_type": "execute_result",
          "data": {
            "text/plain": [
              "array([[66,  7],\n",
              "       [ 4, 43]])"
            ]
          },
          "metadata": {},
          "execution_count": 370
        }
      ]
    },
    {
      "cell_type": "markdown",
      "source": [
        "**Classification Result**"
      ],
      "metadata": {
        "id": "2Gai5GXqV0tj"
      }
    },
    {
      "cell_type": "code",
      "source": [
        "print(classification_report(y_test,y_pred))"
      ],
      "metadata": {
        "colab": {
          "base_uri": "https://localhost:8080/"
        },
        "id": "U1bhSPZrV02q",
        "outputId": "0c5c1287-f5be-48e2-de98-2881829496af"
      },
      "execution_count": 371,
      "outputs": [
        {
          "output_type": "stream",
          "name": "stdout",
          "text": [
            "              precision    recall  f1-score   support\n",
            "\n",
            "           0       0.94      0.90      0.92        73\n",
            "           1       0.86      0.91      0.89        47\n",
            "\n",
            "    accuracy                           0.91       120\n",
            "   macro avg       0.90      0.91      0.90       120\n",
            "weighted avg       0.91      0.91      0.91       120\n",
            "\n"
          ]
        }
      ]
    },
    {
      "cell_type": "markdown",
      "metadata": {
        "id": "Ko5EDqqiopBl"
      },
      "source": [
        "**Visualising the Training set results**"
      ]
    },
    {
      "cell_type": "code",
      "metadata": {
        "id": "y7C-xZjFnqVC",
        "colab": {
          "base_uri": "https://localhost:8080/",
          "height": 1000
        },
        "outputId": "412fc3b5-6fb1-44e7-8f77-37c7620613f6"
      },
      "source": [
        "visual=tree.export_graphviz(randomforest.estimators_[99],feature_names=x_columns,class_names=y_columns,max_depth=5,filled=True)\n",
        "graphviz.Source(visual,format='png')"
      ],
      "execution_count": 372,
      "outputs": [
        {
          "output_type": "execute_result",
          "data": {
            "text/plain": [
              "<graphviz.files.Source at 0x7fed52b1b5e0>"
            ],
            "image/svg+xml": "<?xml version=\"1.0\" encoding=\"UTF-8\" standalone=\"no\"?>\n<!DOCTYPE svg PUBLIC \"-//W3C//DTD SVG 1.1//EN\"\n \"http://www.w3.org/Graphics/SVG/1.1/DTD/svg11.dtd\">\n<!-- Generated by graphviz version 2.43.0 (0)\n -->\n<!-- Title: Tree Pages: 1 -->\n<svg width=\"2806pt\" height=\"758pt\"\n viewBox=\"0.00 0.00 2806.00 758.00\" xmlns=\"http://www.w3.org/2000/svg\" xmlns:xlink=\"http://www.w3.org/1999/xlink\">\n<g id=\"graph0\" class=\"graph\" transform=\"scale(1 1) rotate(0) translate(4 754)\">\n<title>Tree</title>\n<polygon fill=\"white\" stroke=\"transparent\" points=\"-4,4 -4,-754 2802,-754 2802,4 -4,4\"/>\n<!-- 0 -->\n<g id=\"node1\" class=\"node\">\n<title>0</title>\n<polygon fill=\"#f0f8fd\" stroke=\"black\" points=\"991,-750 806,-750 806,-667 991,-667 991,-750\"/>\n<text text-anchor=\"middle\" x=\"898.5\" y=\"-734.8\" font-family=\"Helvetica,sans-Serif\" font-size=\"14.00\">EstmatedSalary &lt;= 86500.0</text>\n<text text-anchor=\"middle\" x=\"898.5\" y=\"-719.8\" font-family=\"Helvetica,sans-Serif\" font-size=\"14.00\">gini = 0.499</text>\n<text text-anchor=\"middle\" x=\"898.5\" y=\"-704.8\" font-family=\"Helvetica,sans-Serif\" font-size=\"14.00\">samples = 179</text>\n<text text-anchor=\"middle\" x=\"898.5\" y=\"-689.8\" font-family=\"Helvetica,sans-Serif\" font-size=\"14.00\">value = [136.196, 147.292]</text>\n<text text-anchor=\"middle\" x=\"898.5\" y=\"-674.8\" font-family=\"Helvetica,sans-Serif\" font-size=\"14.00\">class = Purchased</text>\n</g>\n<!-- 1 -->\n<g id=\"node2\" class=\"node\">\n<title>1</title>\n<polygon fill=\"#f4c9aa\" stroke=\"black\" points=\"861,-631 676,-631 676,-548 861,-548 861,-631\"/>\n<text text-anchor=\"middle\" x=\"768.5\" y=\"-615.8\" font-family=\"Helvetica,sans-Serif\" font-size=\"14.00\">EstmatedSalary &lt;= 49500.0</text>\n<text text-anchor=\"middle\" x=\"768.5\" y=\"-600.8\" font-family=\"Helvetica,sans-Serif\" font-size=\"14.00\">gini = 0.462</text>\n<text text-anchor=\"middle\" x=\"768.5\" y=\"-585.8\" font-family=\"Helvetica,sans-Serif\" font-size=\"14.00\">samples = 128</text>\n<text text-anchor=\"middle\" x=\"768.5\" y=\"-570.8\" font-family=\"Helvetica,sans-Serif\" font-size=\"14.00\">value = [117.935, 67.083]</text>\n<text text-anchor=\"middle\" x=\"768.5\" y=\"-555.8\" font-family=\"Helvetica,sans-Serif\" font-size=\"14.00\">class = Not Purchased</text>\n</g>\n<!-- 0&#45;&gt;1 -->\n<g id=\"edge1\" class=\"edge\">\n<title>0&#45;&gt;1</title>\n<path fill=\"none\" stroke=\"black\" d=\"M853.4,-666.91C843.01,-657.56 831.88,-647.54 821.2,-637.93\"/>\n<polygon fill=\"black\" stroke=\"black\" points=\"823.3,-635.11 813.52,-631.02 818.61,-640.31 823.3,-635.11\"/>\n<text text-anchor=\"middle\" x=\"814.84\" y=\"-652.29\" font-family=\"Helvetica,sans-Serif\" font-size=\"14.00\">True</text>\n</g>\n<!-- 46 -->\n<g id=\"node35\" class=\"node\">\n<title>46</title>\n<polygon fill=\"#66b3eb\" stroke=\"black\" points=\"1389.5,-631 1227.5,-631 1227.5,-548 1389.5,-548 1389.5,-631\"/>\n<text text-anchor=\"middle\" x=\"1308.5\" y=\"-615.8\" font-family=\"Helvetica,sans-Serif\" font-size=\"14.00\">Age &lt;= 31.5</text>\n<text text-anchor=\"middle\" x=\"1308.5\" y=\"-600.8\" font-family=\"Helvetica,sans-Serif\" font-size=\"14.00\">gini = 0.302</text>\n<text text-anchor=\"middle\" x=\"1308.5\" y=\"-585.8\" font-family=\"Helvetica,sans-Serif\" font-size=\"14.00\">samples = 51</text>\n<text text-anchor=\"middle\" x=\"1308.5\" y=\"-570.8\" font-family=\"Helvetica,sans-Serif\" font-size=\"14.00\">value = [18.261, 80.208]</text>\n<text text-anchor=\"middle\" x=\"1308.5\" y=\"-555.8\" font-family=\"Helvetica,sans-Serif\" font-size=\"14.00\">class = Purchased</text>\n</g>\n<!-- 0&#45;&gt;46 -->\n<g id=\"edge34\" class=\"edge\">\n<title>0&#45;&gt;46</title>\n<path fill=\"none\" stroke=\"black\" d=\"M991.02,-681.1C1058.78,-661.76 1150.28,-635.65 1217.65,-616.43\"/>\n<polygon fill=\"black\" stroke=\"black\" points=\"1218.75,-619.75 1227.41,-613.64 1216.83,-613.02 1218.75,-619.75\"/>\n<text text-anchor=\"middle\" x=\"1215.26\" y=\"-631.79\" font-family=\"Helvetica,sans-Serif\" font-size=\"14.00\">False</text>\n</g>\n<!-- 2 -->\n<g id=\"node3\" class=\"node\">\n<title>2</title>\n<polygon fill=\"#ebf5fc\" stroke=\"black\" points=\"388,-512 203,-512 203,-429 388,-429 388,-512\"/>\n<text text-anchor=\"middle\" x=\"295.5\" y=\"-496.8\" font-family=\"Helvetica,sans-Serif\" font-size=\"14.00\">EstmatedSalary &lt;= 19000.0</text>\n<text text-anchor=\"middle\" x=\"295.5\" y=\"-481.8\" font-family=\"Helvetica,sans-Serif\" font-size=\"14.00\">gini = 0.499</text>\n<text text-anchor=\"middle\" x=\"295.5\" y=\"-466.8\" font-family=\"Helvetica,sans-Serif\" font-size=\"14.00\">samples = 55</text>\n<text text-anchor=\"middle\" x=\"295.5\" y=\"-451.8\" font-family=\"Helvetica,sans-Serif\" font-size=\"14.00\">value = [43.37, 48.125]</text>\n<text text-anchor=\"middle\" x=\"295.5\" y=\"-436.8\" font-family=\"Helvetica,sans-Serif\" font-size=\"14.00\">class = Purchased</text>\n</g>\n<!-- 1&#45;&gt;2 -->\n<g id=\"edge2\" class=\"edge\">\n<title>1&#45;&gt;2</title>\n<path fill=\"none\" stroke=\"black\" d=\"M675.9,-565.59C596.04,-545.84 480.87,-517.35 398.2,-496.9\"/>\n<polygon fill=\"black\" stroke=\"black\" points=\"398.83,-493.45 388.28,-494.45 397.15,-500.25 398.83,-493.45\"/>\n</g>\n<!-- 19 -->\n<g id=\"node14\" class=\"node\">\n<title>19</title>\n<polygon fill=\"#eca16b\" stroke=\"black\" points=\"849.5,-512 687.5,-512 687.5,-429 849.5,-429 849.5,-512\"/>\n<text text-anchor=\"middle\" x=\"768.5\" y=\"-496.8\" font-family=\"Helvetica,sans-Serif\" font-size=\"14.00\">Age &lt;= 45.5</text>\n<text text-anchor=\"middle\" x=\"768.5\" y=\"-481.8\" font-family=\"Helvetica,sans-Serif\" font-size=\"14.00\">gini = 0.323</text>\n<text text-anchor=\"middle\" x=\"768.5\" y=\"-466.8\" font-family=\"Helvetica,sans-Serif\" font-size=\"14.00\">samples = 73</text>\n<text text-anchor=\"middle\" x=\"768.5\" y=\"-451.8\" font-family=\"Helvetica,sans-Serif\" font-size=\"14.00\">value = [74.565, 18.958]</text>\n<text text-anchor=\"middle\" x=\"768.5\" y=\"-436.8\" font-family=\"Helvetica,sans-Serif\" font-size=\"14.00\">class = Not Purchased</text>\n</g>\n<!-- 1&#45;&gt;19 -->\n<g id=\"edge13\" class=\"edge\">\n<title>1&#45;&gt;19</title>\n<path fill=\"none\" stroke=\"black\" d=\"M768.5,-547.91C768.5,-539.65 768.5,-530.86 768.5,-522.3\"/>\n<polygon fill=\"black\" stroke=\"black\" points=\"772,-522.02 768.5,-512.02 765,-522.02 772,-522.02\"/>\n</g>\n<!-- 3 -->\n<g id=\"node4\" class=\"node\">\n<title>3</title>\n<polygon fill=\"#e58139\" stroke=\"black\" points=\"196.5,-385.5 44.5,-385.5 44.5,-317.5 196.5,-317.5 196.5,-385.5\"/>\n<text text-anchor=\"middle\" x=\"120.5\" y=\"-370.3\" font-family=\"Helvetica,sans-Serif\" font-size=\"14.00\">gini = 0.0</text>\n<text text-anchor=\"middle\" x=\"120.5\" y=\"-355.3\" font-family=\"Helvetica,sans-Serif\" font-size=\"14.00\">samples = 10</text>\n<text text-anchor=\"middle\" x=\"120.5\" y=\"-340.3\" font-family=\"Helvetica,sans-Serif\" font-size=\"14.00\">value = [14.457, 0.0]</text>\n<text text-anchor=\"middle\" x=\"120.5\" y=\"-325.3\" font-family=\"Helvetica,sans-Serif\" font-size=\"14.00\">class = Not Purchased</text>\n</g>\n<!-- 2&#45;&gt;3 -->\n<g id=\"edge3\" class=\"edge\">\n<title>2&#45;&gt;3</title>\n<path fill=\"none\" stroke=\"black\" d=\"M234.78,-428.91C216.63,-416.77 196.77,-403.49 178.78,-391.46\"/>\n<polygon fill=\"black\" stroke=\"black\" points=\"180.37,-388.32 170.11,-385.67 176.48,-394.13 180.37,-388.32\"/>\n</g>\n<!-- 4 -->\n<g id=\"node5\" class=\"node\">\n<title>4</title>\n<polygon fill=\"#b0d8f5\" stroke=\"black\" points=\"376.5,-393 214.5,-393 214.5,-310 376.5,-310 376.5,-393\"/>\n<text text-anchor=\"middle\" x=\"295.5\" y=\"-377.8\" font-family=\"Helvetica,sans-Serif\" font-size=\"14.00\">Age &lt;= 43.0</text>\n<text text-anchor=\"middle\" x=\"295.5\" y=\"-362.8\" font-family=\"Helvetica,sans-Serif\" font-size=\"14.00\">gini = 0.469</text>\n<text text-anchor=\"middle\" x=\"295.5\" y=\"-347.8\" font-family=\"Helvetica,sans-Serif\" font-size=\"14.00\">samples = 45</text>\n<text text-anchor=\"middle\" x=\"295.5\" y=\"-332.8\" font-family=\"Helvetica,sans-Serif\" font-size=\"14.00\">value = [28.913, 48.125]</text>\n<text text-anchor=\"middle\" x=\"295.5\" y=\"-317.8\" font-family=\"Helvetica,sans-Serif\" font-size=\"14.00\">class = Purchased</text>\n</g>\n<!-- 2&#45;&gt;4 -->\n<g id=\"edge4\" class=\"edge\">\n<title>2&#45;&gt;4</title>\n<path fill=\"none\" stroke=\"black\" d=\"M295.5,-428.91C295.5,-420.65 295.5,-411.86 295.5,-403.3\"/>\n<polygon fill=\"black\" stroke=\"black\" points=\"299,-403.02 295.5,-393.02 292,-403.02 299,-403.02\"/>\n</g>\n<!-- 5 -->\n<g id=\"node6\" class=\"node\">\n<title>5</title>\n<polygon fill=\"#e58139\" stroke=\"black\" points=\"199.5,-266.5 47.5,-266.5 47.5,-198.5 199.5,-198.5 199.5,-266.5\"/>\n<text text-anchor=\"middle\" x=\"123.5\" y=\"-251.3\" font-family=\"Helvetica,sans-Serif\" font-size=\"14.00\">gini = 0.0</text>\n<text text-anchor=\"middle\" x=\"123.5\" y=\"-236.3\" font-family=\"Helvetica,sans-Serif\" font-size=\"14.00\">samples = 22</text>\n<text text-anchor=\"middle\" x=\"123.5\" y=\"-221.3\" font-family=\"Helvetica,sans-Serif\" font-size=\"14.00\">value = [25.87, 0.0]</text>\n<text text-anchor=\"middle\" x=\"123.5\" y=\"-206.3\" font-family=\"Helvetica,sans-Serif\" font-size=\"14.00\">class = Not Purchased</text>\n</g>\n<!-- 4&#45;&gt;5 -->\n<g id=\"edge5\" class=\"edge\">\n<title>4&#45;&gt;5</title>\n<path fill=\"none\" stroke=\"black\" d=\"M235.83,-309.91C217.98,-297.77 198.46,-284.49 180.78,-272.46\"/>\n<polygon fill=\"black\" stroke=\"black\" points=\"182.5,-269.4 172.26,-266.67 178.56,-275.19 182.5,-269.4\"/>\n</g>\n<!-- 6 -->\n<g id=\"node7\" class=\"node\">\n<title>6</title>\n<polygon fill=\"#46a3e7\" stroke=\"black\" points=\"373,-274 218,-274 218,-191 373,-191 373,-274\"/>\n<text text-anchor=\"middle\" x=\"295.5\" y=\"-258.8\" font-family=\"Helvetica,sans-Serif\" font-size=\"14.00\">Age &lt;= 58.5</text>\n<text text-anchor=\"middle\" x=\"295.5\" y=\"-243.8\" font-family=\"Helvetica,sans-Serif\" font-size=\"14.00\">gini = 0.112</text>\n<text text-anchor=\"middle\" x=\"295.5\" y=\"-228.8\" font-family=\"Helvetica,sans-Serif\" font-size=\"14.00\">samples = 23</text>\n<text text-anchor=\"middle\" x=\"295.5\" y=\"-213.8\" font-family=\"Helvetica,sans-Serif\" font-size=\"14.00\">value = [3.043, 48.125]</text>\n<text text-anchor=\"middle\" x=\"295.5\" y=\"-198.8\" font-family=\"Helvetica,sans-Serif\" font-size=\"14.00\">class = Purchased</text>\n</g>\n<!-- 4&#45;&gt;6 -->\n<g id=\"edge6\" class=\"edge\">\n<title>4&#45;&gt;6</title>\n<path fill=\"none\" stroke=\"black\" d=\"M295.5,-309.91C295.5,-301.65 295.5,-292.86 295.5,-284.3\"/>\n<polygon fill=\"black\" stroke=\"black\" points=\"299,-284.02 295.5,-274.02 292,-284.02 299,-284.02\"/>\n</g>\n<!-- 7 -->\n<g id=\"node8\" class=\"node\">\n<title>7</title>\n<polygon fill=\"#41a1e6\" stroke=\"black\" points=\"185,-155 0,-155 0,-72 185,-72 185,-155\"/>\n<text text-anchor=\"middle\" x=\"92.5\" y=\"-139.8\" font-family=\"Helvetica,sans-Serif\" font-size=\"14.00\">EstmatedSalary &lt;= 46000.0</text>\n<text text-anchor=\"middle\" x=\"92.5\" y=\"-124.8\" font-family=\"Helvetica,sans-Serif\" font-size=\"14.00\">gini = 0.074</text>\n<text text-anchor=\"middle\" x=\"92.5\" y=\"-109.8\" font-family=\"Helvetica,sans-Serif\" font-size=\"14.00\">samples = 18</text>\n<text text-anchor=\"middle\" x=\"92.5\" y=\"-94.8\" font-family=\"Helvetica,sans-Serif\" font-size=\"14.00\">value = [1.522, 37.917]</text>\n<text text-anchor=\"middle\" x=\"92.5\" y=\"-79.8\" font-family=\"Helvetica,sans-Serif\" font-size=\"14.00\">class = Purchased</text>\n</g>\n<!-- 6&#45;&gt;7 -->\n<g id=\"edge7\" class=\"edge\">\n<title>6&#45;&gt;7</title>\n<path fill=\"none\" stroke=\"black\" d=\"M225.07,-190.91C207.91,-181.02 189.43,-170.37 171.89,-160.25\"/>\n<polygon fill=\"black\" stroke=\"black\" points=\"173.22,-156.98 162.81,-155.02 169.72,-163.05 173.22,-156.98\"/>\n</g>\n<!-- 14 -->\n<g id=\"node11\" class=\"node\">\n<title>14</title>\n<polygon fill=\"#57ace9\" stroke=\"black\" points=\"388,-155 203,-155 203,-72 388,-72 388,-155\"/>\n<text text-anchor=\"middle\" x=\"295.5\" y=\"-139.8\" font-family=\"Helvetica,sans-Serif\" font-size=\"14.00\">EstmatedSalary &lt;= 35500.0</text>\n<text text-anchor=\"middle\" x=\"295.5\" y=\"-124.8\" font-family=\"Helvetica,sans-Serif\" font-size=\"14.00\">gini = 0.226</text>\n<text text-anchor=\"middle\" x=\"295.5\" y=\"-109.8\" font-family=\"Helvetica,sans-Serif\" font-size=\"14.00\">samples = 5</text>\n<text text-anchor=\"middle\" x=\"295.5\" y=\"-94.8\" font-family=\"Helvetica,sans-Serif\" font-size=\"14.00\">value = [1.522, 10.208]</text>\n<text text-anchor=\"middle\" x=\"295.5\" y=\"-79.8\" font-family=\"Helvetica,sans-Serif\" font-size=\"14.00\">class = Purchased</text>\n</g>\n<!-- 6&#45;&gt;14 -->\n<g id=\"edge10\" class=\"edge\">\n<title>6&#45;&gt;14</title>\n<path fill=\"none\" stroke=\"black\" d=\"M295.5,-190.91C295.5,-182.65 295.5,-173.86 295.5,-165.3\"/>\n<polygon fill=\"black\" stroke=\"black\" points=\"299,-165.02 295.5,-155.02 292,-165.02 299,-165.02\"/>\n</g>\n<!-- 8 -->\n<g id=\"node9\" class=\"node\">\n<title>8</title>\n<polygon fill=\"#c0c0c0\" stroke=\"black\" points=\"83.5,-36 29.5,-36 29.5,0 83.5,0 83.5,-36\"/>\n<text text-anchor=\"middle\" x=\"56.5\" y=\"-14.3\" font-family=\"Helvetica,sans-Serif\" font-size=\"14.00\">(...)</text>\n</g>\n<!-- 7&#45;&gt;8 -->\n<g id=\"edge8\" class=\"edge\">\n<title>7&#45;&gt;8</title>\n<path fill=\"none\" stroke=\"black\" d=\"M76.81,-71.76C73.46,-63.04 69.99,-54.04 66.89,-45.99\"/>\n<polygon fill=\"black\" stroke=\"black\" points=\"70.06,-44.48 63.2,-36.41 63.53,-46.99 70.06,-44.48\"/>\n</g>\n<!-- 9 -->\n<g id=\"node10\" class=\"node\">\n<title>9</title>\n<polygon fill=\"#c0c0c0\" stroke=\"black\" points=\"155.5,-36 101.5,-36 101.5,0 155.5,0 155.5,-36\"/>\n<text text-anchor=\"middle\" x=\"128.5\" y=\"-14.3\" font-family=\"Helvetica,sans-Serif\" font-size=\"14.00\">(...)</text>\n</g>\n<!-- 7&#45;&gt;9 -->\n<g id=\"edge9\" class=\"edge\">\n<title>7&#45;&gt;9</title>\n<path fill=\"none\" stroke=\"black\" d=\"M108.19,-71.76C111.54,-63.04 115.01,-54.04 118.11,-45.99\"/>\n<polygon fill=\"black\" stroke=\"black\" points=\"121.47,-46.99 121.8,-36.41 114.94,-44.48 121.47,-46.99\"/>\n</g>\n<!-- 15 -->\n<g id=\"node12\" class=\"node\">\n<title>15</title>\n<polygon fill=\"#c0c0c0\" stroke=\"black\" points=\"286.5,-36 232.5,-36 232.5,0 286.5,0 286.5,-36\"/>\n<text text-anchor=\"middle\" x=\"259.5\" y=\"-14.3\" font-family=\"Helvetica,sans-Serif\" font-size=\"14.00\">(...)</text>\n</g>\n<!-- 14&#45;&gt;15 -->\n<g id=\"edge11\" class=\"edge\">\n<title>14&#45;&gt;15</title>\n<path fill=\"none\" stroke=\"black\" d=\"M279.81,-71.76C276.46,-63.04 272.99,-54.04 269.89,-45.99\"/>\n<polygon fill=\"black\" stroke=\"black\" points=\"273.06,-44.48 266.2,-36.41 266.53,-46.99 273.06,-44.48\"/>\n</g>\n<!-- 16 -->\n<g id=\"node13\" class=\"node\">\n<title>16</title>\n<polygon fill=\"#c0c0c0\" stroke=\"black\" points=\"358.5,-36 304.5,-36 304.5,0 358.5,0 358.5,-36\"/>\n<text text-anchor=\"middle\" x=\"331.5\" y=\"-14.3\" font-family=\"Helvetica,sans-Serif\" font-size=\"14.00\">(...)</text>\n</g>\n<!-- 14&#45;&gt;16 -->\n<g id=\"edge12\" class=\"edge\">\n<title>14&#45;&gt;16</title>\n<path fill=\"none\" stroke=\"black\" d=\"M311.19,-71.76C314.54,-63.04 318.01,-54.04 321.11,-45.99\"/>\n<polygon fill=\"black\" stroke=\"black\" points=\"324.47,-46.99 324.8,-36.41 317.94,-44.48 324.47,-46.99\"/>\n</g>\n<!-- 20 -->\n<g id=\"node15\" class=\"node\">\n<title>20</title>\n<polygon fill=\"#e78945\" stroke=\"black\" points=\"745,-393 560,-393 560,-310 745,-310 745,-393\"/>\n<text text-anchor=\"middle\" x=\"652.5\" y=\"-377.8\" font-family=\"Helvetica,sans-Serif\" font-size=\"14.00\">EstmatedSalary &lt;= 69000.0</text>\n<text text-anchor=\"middle\" x=\"652.5\" y=\"-362.8\" font-family=\"Helvetica,sans-Serif\" font-size=\"14.00\">gini = 0.108</text>\n<text text-anchor=\"middle\" x=\"652.5\" y=\"-347.8\" font-family=\"Helvetica,sans-Serif\" font-size=\"14.00\">samples = 65</text>\n<text text-anchor=\"middle\" x=\"652.5\" y=\"-332.8\" font-family=\"Helvetica,sans-Serif\" font-size=\"14.00\">value = [72.283, 4.375]</text>\n<text text-anchor=\"middle\" x=\"652.5\" y=\"-317.8\" font-family=\"Helvetica,sans-Serif\" font-size=\"14.00\">class = Not Purchased</text>\n</g>\n<!-- 19&#45;&gt;20 -->\n<g id=\"edge14\" class=\"edge\">\n<title>19&#45;&gt;20</title>\n<path fill=\"none\" stroke=\"black\" d=\"M728.25,-428.91C719.08,-419.65 709.24,-409.73 699.8,-400.21\"/>\n<polygon fill=\"black\" stroke=\"black\" points=\"702.2,-397.66 692.67,-393.02 697.23,-402.59 702.2,-397.66\"/>\n</g>\n<!-- 35 -->\n<g id=\"node24\" class=\"node\">\n<title>35</title>\n<polygon fill=\"#58ace9\" stroke=\"black\" points=\"962,-393 807,-393 807,-310 962,-310 962,-393\"/>\n<text text-anchor=\"middle\" x=\"884.5\" y=\"-377.8\" font-family=\"Helvetica,sans-Serif\" font-size=\"14.00\">Age &lt;= 51.0</text>\n<text text-anchor=\"middle\" x=\"884.5\" y=\"-362.8\" font-family=\"Helvetica,sans-Serif\" font-size=\"14.00\">gini = 0.234</text>\n<text text-anchor=\"middle\" x=\"884.5\" y=\"-347.8\" font-family=\"Helvetica,sans-Serif\" font-size=\"14.00\">samples = 8</text>\n<text text-anchor=\"middle\" x=\"884.5\" y=\"-332.8\" font-family=\"Helvetica,sans-Serif\" font-size=\"14.00\">value = [2.283, 14.583]</text>\n<text text-anchor=\"middle\" x=\"884.5\" y=\"-317.8\" font-family=\"Helvetica,sans-Serif\" font-size=\"14.00\">class = Purchased</text>\n</g>\n<!-- 19&#45;&gt;35 -->\n<g id=\"edge23\" class=\"edge\">\n<title>19&#45;&gt;35</title>\n<path fill=\"none\" stroke=\"black\" d=\"M808.75,-428.91C817.92,-419.65 827.76,-409.73 837.2,-400.21\"/>\n<polygon fill=\"black\" stroke=\"black\" points=\"839.77,-402.59 844.33,-393.02 834.8,-397.66 839.77,-402.59\"/>\n</g>\n<!-- 21 -->\n<g id=\"node16\" class=\"node\">\n<title>21</title>\n<polygon fill=\"#e58139\" stroke=\"black\" points=\"556.5,-266.5 404.5,-266.5 404.5,-198.5 556.5,-198.5 556.5,-266.5\"/>\n<text text-anchor=\"middle\" x=\"480.5\" y=\"-251.3\" font-family=\"Helvetica,sans-Serif\" font-size=\"14.00\">gini = 0.0</text>\n<text text-anchor=\"middle\" x=\"480.5\" y=\"-236.3\" font-family=\"Helvetica,sans-Serif\" font-size=\"14.00\">samples = 29</text>\n<text text-anchor=\"middle\" x=\"480.5\" y=\"-221.3\" font-family=\"Helvetica,sans-Serif\" font-size=\"14.00\">value = [34.239, 0.0]</text>\n<text text-anchor=\"middle\" x=\"480.5\" y=\"-206.3\" font-family=\"Helvetica,sans-Serif\" font-size=\"14.00\">class = Not Purchased</text>\n</g>\n<!-- 20&#45;&gt;21 -->\n<g id=\"edge15\" class=\"edge\">\n<title>20&#45;&gt;21</title>\n<path fill=\"none\" stroke=\"black\" d=\"M592.83,-309.91C574.98,-297.77 555.46,-284.49 537.78,-272.46\"/>\n<polygon fill=\"black\" stroke=\"black\" points=\"539.5,-269.4 529.26,-266.67 535.56,-275.19 539.5,-269.4\"/>\n</g>\n<!-- 22 -->\n<g id=\"node17\" class=\"node\">\n<title>22</title>\n<polygon fill=\"#e88f50\" stroke=\"black\" points=\"730,-274 575,-274 575,-191 730,-191 730,-274\"/>\n<text text-anchor=\"middle\" x=\"652.5\" y=\"-258.8\" font-family=\"Helvetica,sans-Serif\" font-size=\"14.00\">Age &lt;= 41.5</text>\n<text text-anchor=\"middle\" x=\"652.5\" y=\"-243.8\" font-family=\"Helvetica,sans-Serif\" font-size=\"14.00\">gini = 0.185</text>\n<text text-anchor=\"middle\" x=\"652.5\" y=\"-228.8\" font-family=\"Helvetica,sans-Serif\" font-size=\"14.00\">samples = 36</text>\n<text text-anchor=\"middle\" x=\"652.5\" y=\"-213.8\" font-family=\"Helvetica,sans-Serif\" font-size=\"14.00\">value = [38.043, 4.375]</text>\n<text text-anchor=\"middle\" x=\"652.5\" y=\"-198.8\" font-family=\"Helvetica,sans-Serif\" font-size=\"14.00\">class = Not Purchased</text>\n</g>\n<!-- 20&#45;&gt;22 -->\n<g id=\"edge16\" class=\"edge\">\n<title>20&#45;&gt;22</title>\n<path fill=\"none\" stroke=\"black\" d=\"M652.5,-309.91C652.5,-301.65 652.5,-292.86 652.5,-284.3\"/>\n<polygon fill=\"black\" stroke=\"black\" points=\"656,-284.02 652.5,-274.02 649,-284.02 656,-284.02\"/>\n</g>\n<!-- 23 -->\n<g id=\"node18\" class=\"node\">\n<title>23</title>\n<polygon fill=\"#e78b48\" stroke=\"black\" points=\"561,-155 406,-155 406,-72 561,-72 561,-155\"/>\n<text text-anchor=\"middle\" x=\"483.5\" y=\"-139.8\" font-family=\"Helvetica,sans-Serif\" font-size=\"14.00\">Age &lt;= 36.5</text>\n<text text-anchor=\"middle\" x=\"483.5\" y=\"-124.8\" font-family=\"Helvetica,sans-Serif\" font-size=\"14.00\">gini = 0.135</text>\n<text text-anchor=\"middle\" x=\"483.5\" y=\"-109.8\" font-family=\"Helvetica,sans-Serif\" font-size=\"14.00\">samples = 34</text>\n<text text-anchor=\"middle\" x=\"483.5\" y=\"-94.8\" font-family=\"Helvetica,sans-Serif\" font-size=\"14.00\">value = [37.283, 2.917]</text>\n<text text-anchor=\"middle\" x=\"483.5\" y=\"-79.8\" font-family=\"Helvetica,sans-Serif\" font-size=\"14.00\">class = Not Purchased</text>\n</g>\n<!-- 22&#45;&gt;23 -->\n<g id=\"edge17\" class=\"edge\">\n<title>22&#45;&gt;23</title>\n<path fill=\"none\" stroke=\"black\" d=\"M593.87,-190.91C579.84,-181.2 564.76,-170.76 550.39,-160.81\"/>\n<polygon fill=\"black\" stroke=\"black\" points=\"552.24,-157.84 542.03,-155.02 548.26,-163.59 552.24,-157.84\"/>\n</g>\n<!-- 32 -->\n<g id=\"node21\" class=\"node\">\n<title>32</title>\n<polygon fill=\"#a0d0f3\" stroke=\"black\" points=\"726,-155 579,-155 579,-72 726,-72 726,-155\"/>\n<text text-anchor=\"middle\" x=\"652.5\" y=\"-139.8\" font-family=\"Helvetica,sans-Serif\" font-size=\"14.00\">Age &lt;= 43.5</text>\n<text text-anchor=\"middle\" x=\"652.5\" y=\"-124.8\" font-family=\"Helvetica,sans-Serif\" font-size=\"14.00\">gini = 0.451</text>\n<text text-anchor=\"middle\" x=\"652.5\" y=\"-109.8\" font-family=\"Helvetica,sans-Serif\" font-size=\"14.00\">samples = 2</text>\n<text text-anchor=\"middle\" x=\"652.5\" y=\"-94.8\" font-family=\"Helvetica,sans-Serif\" font-size=\"14.00\">value = [0.761, 1.458]</text>\n<text text-anchor=\"middle\" x=\"652.5\" y=\"-79.8\" font-family=\"Helvetica,sans-Serif\" font-size=\"14.00\">class = Purchased</text>\n</g>\n<!-- 22&#45;&gt;32 -->\n<g id=\"edge20\" class=\"edge\">\n<title>22&#45;&gt;32</title>\n<path fill=\"none\" stroke=\"black\" d=\"M652.5,-190.91C652.5,-182.65 652.5,-173.86 652.5,-165.3\"/>\n<polygon fill=\"black\" stroke=\"black\" points=\"656,-165.02 652.5,-155.02 649,-165.02 656,-165.02\"/>\n</g>\n<!-- 24 -->\n<g id=\"node19\" class=\"node\">\n<title>24</title>\n<polygon fill=\"#c0c0c0\" stroke=\"black\" points=\"491.5,-36 437.5,-36 437.5,0 491.5,0 491.5,-36\"/>\n<text text-anchor=\"middle\" x=\"464.5\" y=\"-14.3\" font-family=\"Helvetica,sans-Serif\" font-size=\"14.00\">(...)</text>\n</g>\n<!-- 23&#45;&gt;24 -->\n<g id=\"edge18\" class=\"edge\">\n<title>23&#45;&gt;24</title>\n<path fill=\"none\" stroke=\"black\" d=\"M475.22,-71.76C473.47,-63.14 471.66,-54.24 470.04,-46.26\"/>\n<polygon fill=\"black\" stroke=\"black\" points=\"473.46,-45.51 468.04,-36.41 466.6,-46.9 473.46,-45.51\"/>\n</g>\n<!-- 25 -->\n<g id=\"node20\" class=\"node\">\n<title>25</title>\n<polygon fill=\"#c0c0c0\" stroke=\"black\" points=\"563.5,-36 509.5,-36 509.5,0 563.5,0 563.5,-36\"/>\n<text text-anchor=\"middle\" x=\"536.5\" y=\"-14.3\" font-family=\"Helvetica,sans-Serif\" font-size=\"14.00\">(...)</text>\n</g>\n<!-- 23&#45;&gt;25 -->\n<g id=\"edge19\" class=\"edge\">\n<title>23&#45;&gt;25</title>\n<path fill=\"none\" stroke=\"black\" d=\"M506.59,-71.76C511.7,-62.75 516.98,-53.44 521.65,-45.19\"/>\n<polygon fill=\"black\" stroke=\"black\" points=\"524.75,-46.83 526.63,-36.41 518.66,-43.38 524.75,-46.83\"/>\n</g>\n<!-- 33 -->\n<g id=\"node22\" class=\"node\">\n<title>33</title>\n<polygon fill=\"#c0c0c0\" stroke=\"black\" points=\"645.5,-36 591.5,-36 591.5,0 645.5,0 645.5,-36\"/>\n<text text-anchor=\"middle\" x=\"618.5\" y=\"-14.3\" font-family=\"Helvetica,sans-Serif\" font-size=\"14.00\">(...)</text>\n</g>\n<!-- 32&#45;&gt;33 -->\n<g id=\"edge21\" class=\"edge\">\n<title>32&#45;&gt;33</title>\n<path fill=\"none\" stroke=\"black\" d=\"M637.69,-71.76C634.52,-63.04 631.24,-54.04 628.32,-45.99\"/>\n<polygon fill=\"black\" stroke=\"black\" points=\"631.54,-44.61 624.83,-36.41 624.96,-47 631.54,-44.61\"/>\n</g>\n<!-- 34 -->\n<g id=\"node23\" class=\"node\">\n<title>34</title>\n<polygon fill=\"#c0c0c0\" stroke=\"black\" points=\"717.5,-36 663.5,-36 663.5,0 717.5,0 717.5,-36\"/>\n<text text-anchor=\"middle\" x=\"690.5\" y=\"-14.3\" font-family=\"Helvetica,sans-Serif\" font-size=\"14.00\">(...)</text>\n</g>\n<!-- 32&#45;&gt;34 -->\n<g id=\"edge22\" class=\"edge\">\n<title>32&#45;&gt;34</title>\n<path fill=\"none\" stroke=\"black\" d=\"M669.06,-71.76C672.64,-62.94 676.34,-53.84 679.64,-45.72\"/>\n<polygon fill=\"black\" stroke=\"black\" points=\"682.9,-46.99 683.43,-36.41 676.42,-44.35 682.9,-46.99\"/>\n</g>\n<!-- 36 -->\n<g id=\"node25\" class=\"node\">\n<title>36</title>\n<polygon fill=\"#fefaf7\" stroke=\"black\" points=\"977,-274 792,-274 792,-191 977,-191 977,-274\"/>\n<text text-anchor=\"middle\" x=\"884.5\" y=\"-258.8\" font-family=\"Helvetica,sans-Serif\" font-size=\"14.00\">EstmatedSalary &lt;= 72000.0</text>\n<text text-anchor=\"middle\" x=\"884.5\" y=\"-243.8\" font-family=\"Helvetica,sans-Serif\" font-size=\"14.00\">gini = 0.5</text>\n<text text-anchor=\"middle\" x=\"884.5\" y=\"-228.8\" font-family=\"Helvetica,sans-Serif\" font-size=\"14.00\">samples = 3</text>\n<text text-anchor=\"middle\" x=\"884.5\" y=\"-213.8\" font-family=\"Helvetica,sans-Serif\" font-size=\"14.00\">value = [1.522, 1.458]</text>\n<text text-anchor=\"middle\" x=\"884.5\" y=\"-198.8\" font-family=\"Helvetica,sans-Serif\" font-size=\"14.00\">class = Not Purchased</text>\n</g>\n<!-- 35&#45;&gt;36 -->\n<g id=\"edge24\" class=\"edge\">\n<title>35&#45;&gt;36</title>\n<path fill=\"none\" stroke=\"black\" d=\"M884.5,-309.91C884.5,-301.65 884.5,-292.86 884.5,-284.3\"/>\n<polygon fill=\"black\" stroke=\"black\" points=\"888,-284.02 884.5,-274.02 881,-284.02 888,-284.02\"/>\n</g>\n<!-- 41 -->\n<g id=\"node30\" class=\"node\">\n<title>41</title>\n<polygon fill=\"#44a3e7\" stroke=\"black\" points=\"1223,-274 1038,-274 1038,-191 1223,-191 1223,-274\"/>\n<text text-anchor=\"middle\" x=\"1130.5\" y=\"-258.8\" font-family=\"Helvetica,sans-Serif\" font-size=\"14.00\">EstmatedSalary &lt;= 78500.0</text>\n<text text-anchor=\"middle\" x=\"1130.5\" y=\"-243.8\" font-family=\"Helvetica,sans-Serif\" font-size=\"14.00\">gini = 0.104</text>\n<text text-anchor=\"middle\" x=\"1130.5\" y=\"-228.8\" font-family=\"Helvetica,sans-Serif\" font-size=\"14.00\">samples = 5</text>\n<text text-anchor=\"middle\" x=\"1130.5\" y=\"-213.8\" font-family=\"Helvetica,sans-Serif\" font-size=\"14.00\">value = [0.761, 13.125]</text>\n<text text-anchor=\"middle\" x=\"1130.5\" y=\"-198.8\" font-family=\"Helvetica,sans-Serif\" font-size=\"14.00\">class = Purchased</text>\n</g>\n<!-- 35&#45;&gt;41 -->\n<g id=\"edge29\" class=\"edge\">\n<title>35&#45;&gt;41</title>\n<path fill=\"none\" stroke=\"black\" d=\"M962.34,-313.48C985.68,-302.38 1011.54,-290.08 1035.84,-278.52\"/>\n<polygon fill=\"black\" stroke=\"black\" points=\"1037.54,-281.59 1045.07,-274.13 1034.53,-275.27 1037.54,-281.59\"/>\n</g>\n<!-- 37 -->\n<g id=\"node26\" class=\"node\">\n<title>37</title>\n<polygon fill=\"#e58139\" stroke=\"black\" points=\"896.5,-155 744.5,-155 744.5,-72 896.5,-72 896.5,-155\"/>\n<text text-anchor=\"middle\" x=\"820.5\" y=\"-139.8\" font-family=\"Helvetica,sans-Serif\" font-size=\"14.00\">Age &lt;= 47.5</text>\n<text text-anchor=\"middle\" x=\"820.5\" y=\"-124.8\" font-family=\"Helvetica,sans-Serif\" font-size=\"14.00\">gini = 0.0</text>\n<text text-anchor=\"middle\" x=\"820.5\" y=\"-109.8\" font-family=\"Helvetica,sans-Serif\" font-size=\"14.00\">samples = 2</text>\n<text text-anchor=\"middle\" x=\"820.5\" y=\"-94.8\" font-family=\"Helvetica,sans-Serif\" font-size=\"14.00\">value = [1.522, 0.0]</text>\n<text text-anchor=\"middle\" x=\"820.5\" y=\"-79.8\" font-family=\"Helvetica,sans-Serif\" font-size=\"14.00\">class = Not Purchased</text>\n</g>\n<!-- 36&#45;&gt;37 -->\n<g id=\"edge25\" class=\"edge\">\n<title>36&#45;&gt;37</title>\n<path fill=\"none\" stroke=\"black\" d=\"M862.3,-190.91C857.53,-182.2 852.44,-172.9 847.52,-163.89\"/>\n<polygon fill=\"black\" stroke=\"black\" points=\"850.53,-162.11 842.67,-155.02 844.39,-165.47 850.53,-162.11\"/>\n</g>\n<!-- 40 -->\n<g id=\"node29\" class=\"node\">\n<title>40</title>\n<polygon fill=\"#399de5\" stroke=\"black\" points=\"1046.5,-147.5 914.5,-147.5 914.5,-79.5 1046.5,-79.5 1046.5,-147.5\"/>\n<text text-anchor=\"middle\" x=\"980.5\" y=\"-132.3\" font-family=\"Helvetica,sans-Serif\" font-size=\"14.00\">gini = 0.0</text>\n<text text-anchor=\"middle\" x=\"980.5\" y=\"-117.3\" font-family=\"Helvetica,sans-Serif\" font-size=\"14.00\">samples = 1</text>\n<text text-anchor=\"middle\" x=\"980.5\" y=\"-102.3\" font-family=\"Helvetica,sans-Serif\" font-size=\"14.00\">value = [0.0, 1.458]</text>\n<text text-anchor=\"middle\" x=\"980.5\" y=\"-87.3\" font-family=\"Helvetica,sans-Serif\" font-size=\"14.00\">class = Purchased</text>\n</g>\n<!-- 36&#45;&gt;40 -->\n<g id=\"edge28\" class=\"edge\">\n<title>36&#45;&gt;40</title>\n<path fill=\"none\" stroke=\"black\" d=\"M917.81,-190.91C927.22,-179.43 937.47,-166.94 946.91,-155.44\"/>\n<polygon fill=\"black\" stroke=\"black\" points=\"949.65,-157.62 953.29,-147.67 944.24,-153.18 949.65,-157.62\"/>\n</g>\n<!-- 38 -->\n<g id=\"node27\" class=\"node\">\n<title>38</title>\n<polygon fill=\"#c0c0c0\" stroke=\"black\" points=\"794.5,-36 740.5,-36 740.5,0 794.5,0 794.5,-36\"/>\n<text text-anchor=\"middle\" x=\"767.5\" y=\"-14.3\" font-family=\"Helvetica,sans-Serif\" font-size=\"14.00\">(...)</text>\n</g>\n<!-- 37&#45;&gt;38 -->\n<g id=\"edge26\" class=\"edge\">\n<title>37&#45;&gt;38</title>\n<path fill=\"none\" stroke=\"black\" d=\"M797.41,-71.76C792.3,-62.75 787.02,-53.44 782.35,-45.19\"/>\n<polygon fill=\"black\" stroke=\"black\" points=\"785.34,-43.38 777.37,-36.41 779.25,-46.83 785.34,-43.38\"/>\n</g>\n<!-- 39 -->\n<g id=\"node28\" class=\"node\">\n<title>39</title>\n<polygon fill=\"#c0c0c0\" stroke=\"black\" points=\"866.5,-36 812.5,-36 812.5,0 866.5,0 866.5,-36\"/>\n<text text-anchor=\"middle\" x=\"839.5\" y=\"-14.3\" font-family=\"Helvetica,sans-Serif\" font-size=\"14.00\">(...)</text>\n</g>\n<!-- 37&#45;&gt;39 -->\n<g id=\"edge27\" class=\"edge\">\n<title>37&#45;&gt;39</title>\n<path fill=\"none\" stroke=\"black\" d=\"M828.78,-71.76C830.53,-63.14 832.34,-54.24 833.96,-46.26\"/>\n<polygon fill=\"black\" stroke=\"black\" points=\"837.4,-46.9 835.96,-36.41 830.54,-45.51 837.4,-46.9\"/>\n</g>\n<!-- 42 -->\n<g id=\"node31\" class=\"node\">\n<title>42</title>\n<polygon fill=\"#399de5\" stroke=\"black\" points=\"1196.5,-147.5 1064.5,-147.5 1064.5,-79.5 1196.5,-79.5 1196.5,-147.5\"/>\n<text text-anchor=\"middle\" x=\"1130.5\" y=\"-132.3\" font-family=\"Helvetica,sans-Serif\" font-size=\"14.00\">gini = 0.0</text>\n<text text-anchor=\"middle\" x=\"1130.5\" y=\"-117.3\" font-family=\"Helvetica,sans-Serif\" font-size=\"14.00\">samples = 3</text>\n<text text-anchor=\"middle\" x=\"1130.5\" y=\"-102.3\" font-family=\"Helvetica,sans-Serif\" font-size=\"14.00\">value = [0.0, 7.292]</text>\n<text text-anchor=\"middle\" x=\"1130.5\" y=\"-87.3\" font-family=\"Helvetica,sans-Serif\" font-size=\"14.00\">class = Purchased</text>\n</g>\n<!-- 41&#45;&gt;42 -->\n<g id=\"edge30\" class=\"edge\">\n<title>41&#45;&gt;42</title>\n<path fill=\"none\" stroke=\"black\" d=\"M1130.5,-190.91C1130.5,-180.2 1130.5,-168.62 1130.5,-157.78\"/>\n<polygon fill=\"black\" stroke=\"black\" points=\"1134,-157.67 1130.5,-147.67 1127,-157.67 1134,-157.67\"/>\n</g>\n<!-- 43 -->\n<g id=\"node32\" class=\"node\">\n<title>43</title>\n<polygon fill=\"#53aae8\" stroke=\"black\" points=\"1362,-155 1215,-155 1215,-72 1362,-72 1362,-155\"/>\n<text text-anchor=\"middle\" x=\"1288.5\" y=\"-139.8\" font-family=\"Helvetica,sans-Serif\" font-size=\"14.00\">Age &lt;= 59.5</text>\n<text text-anchor=\"middle\" x=\"1288.5\" y=\"-124.8\" font-family=\"Helvetica,sans-Serif\" font-size=\"14.00\">gini = 0.204</text>\n<text text-anchor=\"middle\" x=\"1288.5\" y=\"-109.8\" font-family=\"Helvetica,sans-Serif\" font-size=\"14.00\">samples = 2</text>\n<text text-anchor=\"middle\" x=\"1288.5\" y=\"-94.8\" font-family=\"Helvetica,sans-Serif\" font-size=\"14.00\">value = [0.761, 5.833]</text>\n<text text-anchor=\"middle\" x=\"1288.5\" y=\"-79.8\" font-family=\"Helvetica,sans-Serif\" font-size=\"14.00\">class = Purchased</text>\n</g>\n<!-- 41&#45;&gt;43 -->\n<g id=\"edge31\" class=\"edge\">\n<title>41&#45;&gt;43</title>\n<path fill=\"none\" stroke=\"black\" d=\"M1185.32,-190.91C1198.31,-181.29 1212.26,-170.95 1225.58,-161.09\"/>\n<polygon fill=\"black\" stroke=\"black\" points=\"1227.83,-163.78 1233.78,-155.02 1223.66,-158.16 1227.83,-163.78\"/>\n</g>\n<!-- 44 -->\n<g id=\"node33\" class=\"node\">\n<title>44</title>\n<polygon fill=\"#c0c0c0\" stroke=\"black\" points=\"1279.5,-36 1225.5,-36 1225.5,0 1279.5,0 1279.5,-36\"/>\n<text text-anchor=\"middle\" x=\"1252.5\" y=\"-14.3\" font-family=\"Helvetica,sans-Serif\" font-size=\"14.00\">(...)</text>\n</g>\n<!-- 43&#45;&gt;44 -->\n<g id=\"edge32\" class=\"edge\">\n<title>43&#45;&gt;44</title>\n<path fill=\"none\" stroke=\"black\" d=\"M1272.81,-71.76C1269.46,-63.04 1265.99,-54.04 1262.89,-45.99\"/>\n<polygon fill=\"black\" stroke=\"black\" points=\"1266.06,-44.48 1259.2,-36.41 1259.53,-46.99 1266.06,-44.48\"/>\n</g>\n<!-- 45 -->\n<g id=\"node34\" class=\"node\">\n<title>45</title>\n<polygon fill=\"#c0c0c0\" stroke=\"black\" points=\"1351.5,-36 1297.5,-36 1297.5,0 1351.5,0 1351.5,-36\"/>\n<text text-anchor=\"middle\" x=\"1324.5\" y=\"-14.3\" font-family=\"Helvetica,sans-Serif\" font-size=\"14.00\">(...)</text>\n</g>\n<!-- 43&#45;&gt;45 -->\n<g id=\"edge33\" class=\"edge\">\n<title>43&#45;&gt;45</title>\n<path fill=\"none\" stroke=\"black\" d=\"M1304.19,-71.76C1307.54,-63.04 1311.01,-54.04 1314.11,-45.99\"/>\n<polygon fill=\"black\" stroke=\"black\" points=\"1317.47,-46.99 1317.8,-36.41 1310.94,-44.48 1317.47,-46.99\"/>\n</g>\n<!-- 47 -->\n<g id=\"node36\" class=\"node\">\n<title>47</title>\n<polygon fill=\"#ea975c\" stroke=\"black\" points=\"1401,-512 1216,-512 1216,-429 1401,-429 1401,-512\"/>\n<text text-anchor=\"middle\" x=\"1308.5\" y=\"-496.8\" font-family=\"Helvetica,sans-Serif\" font-size=\"14.00\">EstmatedSalary &lt;= 93000.0</text>\n<text text-anchor=\"middle\" x=\"1308.5\" y=\"-481.8\" font-family=\"Helvetica,sans-Serif\" font-size=\"14.00\">gini = 0.253</text>\n<text text-anchor=\"middle\" x=\"1308.5\" y=\"-466.8\" font-family=\"Helvetica,sans-Serif\" font-size=\"14.00\">samples = 10</text>\n<text text-anchor=\"middle\" x=\"1308.5\" y=\"-451.8\" font-family=\"Helvetica,sans-Serif\" font-size=\"14.00\">value = [8.37, 1.458]</text>\n<text text-anchor=\"middle\" x=\"1308.5\" y=\"-436.8\" font-family=\"Helvetica,sans-Serif\" font-size=\"14.00\">class = Not Purchased</text>\n</g>\n<!-- 46&#45;&gt;47 -->\n<g id=\"edge35\" class=\"edge\">\n<title>46&#45;&gt;47</title>\n<path fill=\"none\" stroke=\"black\" d=\"M1308.5,-547.91C1308.5,-539.65 1308.5,-530.86 1308.5,-522.3\"/>\n<polygon fill=\"black\" stroke=\"black\" points=\"1312,-522.02 1308.5,-512.02 1305,-522.02 1312,-522.02\"/>\n</g>\n<!-- 52 -->\n<g id=\"node41\" class=\"node\">\n<title>52</title>\n<polygon fill=\"#52a9e8\" stroke=\"black\" points=\"1819,-512 1672,-512 1672,-429 1819,-429 1819,-512\"/>\n<text text-anchor=\"middle\" x=\"1745.5\" y=\"-496.8\" font-family=\"Helvetica,sans-Serif\" font-size=\"14.00\">Age &lt;= 35.5</text>\n<text text-anchor=\"middle\" x=\"1745.5\" y=\"-481.8\" font-family=\"Helvetica,sans-Serif\" font-size=\"14.00\">gini = 0.198</text>\n<text text-anchor=\"middle\" x=\"1745.5\" y=\"-466.8\" font-family=\"Helvetica,sans-Serif\" font-size=\"14.00\">samples = 41</text>\n<text text-anchor=\"middle\" x=\"1745.5\" y=\"-451.8\" font-family=\"Helvetica,sans-Serif\" font-size=\"14.00\">value = [9.891, 78.75]</text>\n<text text-anchor=\"middle\" x=\"1745.5\" y=\"-436.8\" font-family=\"Helvetica,sans-Serif\" font-size=\"14.00\">class = Purchased</text>\n</g>\n<!-- 46&#45;&gt;52 -->\n<g id=\"edge40\" class=\"edge\">\n<title>46&#45;&gt;52</title>\n<path fill=\"none\" stroke=\"black\" d=\"M1389.67,-566.77C1467.19,-546.01 1583.5,-514.87 1661.84,-493.9\"/>\n<polygon fill=\"black\" stroke=\"black\" points=\"1662.92,-497.23 1671.68,-491.27 1661.11,-490.47 1662.92,-497.23\"/>\n</g>\n<!-- 48 -->\n<g id=\"node37\" class=\"node\">\n<title>48</title>\n<polygon fill=\"#e58139\" stroke=\"black\" points=\"1300.5,-385.5 1148.5,-385.5 1148.5,-317.5 1300.5,-317.5 1300.5,-385.5\"/>\n<text text-anchor=\"middle\" x=\"1224.5\" y=\"-370.3\" font-family=\"Helvetica,sans-Serif\" font-size=\"14.00\">gini = &#45;0.0</text>\n<text text-anchor=\"middle\" x=\"1224.5\" y=\"-355.3\" font-family=\"Helvetica,sans-Serif\" font-size=\"14.00\">samples = 8</text>\n<text text-anchor=\"middle\" x=\"1224.5\" y=\"-340.3\" font-family=\"Helvetica,sans-Serif\" font-size=\"14.00\">value = [7.609, 0.0]</text>\n<text text-anchor=\"middle\" x=\"1224.5\" y=\"-325.3\" font-family=\"Helvetica,sans-Serif\" font-size=\"14.00\">class = Not Purchased</text>\n</g>\n<!-- 47&#45;&gt;48 -->\n<g id=\"edge36\" class=\"edge\">\n<title>47&#45;&gt;48</title>\n<path fill=\"none\" stroke=\"black\" d=\"M1279.36,-428.91C1271.28,-417.65 1262.49,-405.42 1254.37,-394.11\"/>\n<polygon fill=\"black\" stroke=\"black\" points=\"1256.99,-391.75 1248.31,-385.67 1251.3,-395.83 1256.99,-391.75\"/>\n</g>\n<!-- 49 -->\n<g id=\"node38\" class=\"node\">\n<title>49</title>\n<polygon fill=\"#a0d0f3\" stroke=\"black\" points=\"1466,-393 1319,-393 1319,-310 1466,-310 1466,-393\"/>\n<text text-anchor=\"middle\" x=\"1392.5\" y=\"-377.8\" font-family=\"Helvetica,sans-Serif\" font-size=\"14.00\">Age &lt;= 28.5</text>\n<text text-anchor=\"middle\" x=\"1392.5\" y=\"-362.8\" font-family=\"Helvetica,sans-Serif\" font-size=\"14.00\">gini = 0.451</text>\n<text text-anchor=\"middle\" x=\"1392.5\" y=\"-347.8\" font-family=\"Helvetica,sans-Serif\" font-size=\"14.00\">samples = 2</text>\n<text text-anchor=\"middle\" x=\"1392.5\" y=\"-332.8\" font-family=\"Helvetica,sans-Serif\" font-size=\"14.00\">value = [0.761, 1.458]</text>\n<text text-anchor=\"middle\" x=\"1392.5\" y=\"-317.8\" font-family=\"Helvetica,sans-Serif\" font-size=\"14.00\">class = Purchased</text>\n</g>\n<!-- 47&#45;&gt;49 -->\n<g id=\"edge37\" class=\"edge\">\n<title>47&#45;&gt;49</title>\n<path fill=\"none\" stroke=\"black\" d=\"M1337.64,-428.91C1344.03,-420.01 1350.85,-410.51 1357.44,-401.33\"/>\n<polygon fill=\"black\" stroke=\"black\" points=\"1360.42,-403.19 1363.41,-393.02 1354.73,-399.1 1360.42,-403.19\"/>\n</g>\n<!-- 50 -->\n<g id=\"node39\" class=\"node\">\n<title>50</title>\n<polygon fill=\"#399de5\" stroke=\"black\" points=\"1378.5,-266.5 1246.5,-266.5 1246.5,-198.5 1378.5,-198.5 1378.5,-266.5\"/>\n<text text-anchor=\"middle\" x=\"1312.5\" y=\"-251.3\" font-family=\"Helvetica,sans-Serif\" font-size=\"14.00\">gini = 0.0</text>\n<text text-anchor=\"middle\" x=\"1312.5\" y=\"-236.3\" font-family=\"Helvetica,sans-Serif\" font-size=\"14.00\">samples = 1</text>\n<text text-anchor=\"middle\" x=\"1312.5\" y=\"-221.3\" font-family=\"Helvetica,sans-Serif\" font-size=\"14.00\">value = [0.0, 1.458]</text>\n<text text-anchor=\"middle\" x=\"1312.5\" y=\"-206.3\" font-family=\"Helvetica,sans-Serif\" font-size=\"14.00\">class = Purchased</text>\n</g>\n<!-- 49&#45;&gt;50 -->\n<g id=\"edge38\" class=\"edge\">\n<title>49&#45;&gt;50</title>\n<path fill=\"none\" stroke=\"black\" d=\"M1364.74,-309.91C1357.05,-298.65 1348.68,-286.42 1340.95,-275.11\"/>\n<polygon fill=\"black\" stroke=\"black\" points=\"1343.71,-272.95 1335.18,-266.67 1337.93,-276.9 1343.71,-272.95\"/>\n</g>\n<!-- 51 -->\n<g id=\"node40\" class=\"node\">\n<title>51</title>\n<polygon fill=\"#e58139\" stroke=\"black\" points=\"1548.5,-266.5 1396.5,-266.5 1396.5,-198.5 1548.5,-198.5 1548.5,-266.5\"/>\n<text text-anchor=\"middle\" x=\"1472.5\" y=\"-251.3\" font-family=\"Helvetica,sans-Serif\" font-size=\"14.00\">gini = 0.0</text>\n<text text-anchor=\"middle\" x=\"1472.5\" y=\"-236.3\" font-family=\"Helvetica,sans-Serif\" font-size=\"14.00\">samples = 1</text>\n<text text-anchor=\"middle\" x=\"1472.5\" y=\"-221.3\" font-family=\"Helvetica,sans-Serif\" font-size=\"14.00\">value = [0.761, 0.0]</text>\n<text text-anchor=\"middle\" x=\"1472.5\" y=\"-206.3\" font-family=\"Helvetica,sans-Serif\" font-size=\"14.00\">class = Not Purchased</text>\n</g>\n<!-- 49&#45;&gt;51 -->\n<g id=\"edge39\" class=\"edge\">\n<title>49&#45;&gt;51</title>\n<path fill=\"none\" stroke=\"black\" d=\"M1420.26,-309.91C1427.95,-298.65 1436.32,-286.42 1444.05,-275.11\"/>\n<polygon fill=\"black\" stroke=\"black\" points=\"1447.07,-276.9 1449.82,-266.67 1441.29,-272.95 1447.07,-276.9\"/>\n</g>\n<!-- 53 -->\n<g id=\"node42\" class=\"node\">\n<title>53</title>\n<polygon fill=\"#93caf1\" stroke=\"black\" points=\"1823,-393 1668,-393 1668,-310 1823,-310 1823,-393\"/>\n<text text-anchor=\"middle\" x=\"1745.5\" y=\"-377.8\" font-family=\"Helvetica,sans-Serif\" font-size=\"14.00\">Age &lt;= 33.5</text>\n<text text-anchor=\"middle\" x=\"1745.5\" y=\"-362.8\" font-family=\"Helvetica,sans-Serif\" font-size=\"14.00\">gini = 0.43</text>\n<text text-anchor=\"middle\" x=\"1745.5\" y=\"-347.8\" font-family=\"Helvetica,sans-Serif\" font-size=\"14.00\">samples = 6</text>\n<text text-anchor=\"middle\" x=\"1745.5\" y=\"-332.8\" font-family=\"Helvetica,sans-Serif\" font-size=\"14.00\">value = [5.326, 11.667]</text>\n<text text-anchor=\"middle\" x=\"1745.5\" y=\"-317.8\" font-family=\"Helvetica,sans-Serif\" font-size=\"14.00\">class = Purchased</text>\n</g>\n<!-- 52&#45;&gt;53 -->\n<g id=\"edge41\" class=\"edge\">\n<title>52&#45;&gt;53</title>\n<path fill=\"none\" stroke=\"black\" d=\"M1745.5,-428.91C1745.5,-420.65 1745.5,-411.86 1745.5,-403.3\"/>\n<polygon fill=\"black\" stroke=\"black\" points=\"1749,-403.02 1745.5,-393.02 1742,-403.02 1749,-403.02\"/>\n</g>\n<!-- 64 -->\n<g id=\"node53\" class=\"node\">\n<title>64</title>\n<polygon fill=\"#46a4e7\" stroke=\"black\" points=\"2360,-393 2205,-393 2205,-310 2360,-310 2360,-393\"/>\n<text text-anchor=\"middle\" x=\"2282.5\" y=\"-377.8\" font-family=\"Helvetica,sans-Serif\" font-size=\"14.00\">Age &lt;= 50.5</text>\n<text text-anchor=\"middle\" x=\"2282.5\" y=\"-362.8\" font-family=\"Helvetica,sans-Serif\" font-size=\"14.00\">gini = 0.119</text>\n<text text-anchor=\"middle\" x=\"2282.5\" y=\"-347.8\" font-family=\"Helvetica,sans-Serif\" font-size=\"14.00\">samples = 35</text>\n<text text-anchor=\"middle\" x=\"2282.5\" y=\"-332.8\" font-family=\"Helvetica,sans-Serif\" font-size=\"14.00\">value = [4.565, 67.083]</text>\n<text text-anchor=\"middle\" x=\"2282.5\" y=\"-317.8\" font-family=\"Helvetica,sans-Serif\" font-size=\"14.00\">class = Purchased</text>\n</g>\n<!-- 52&#45;&gt;64 -->\n<g id=\"edge52\" class=\"edge\">\n<title>52&#45;&gt;64</title>\n<path fill=\"none\" stroke=\"black\" d=\"M1819.04,-453.48C1916.99,-432.14 2090.05,-394.43 2194.72,-371.63\"/>\n<polygon fill=\"black\" stroke=\"black\" points=\"2195.61,-375.01 2204.63,-369.47 2194.11,-368.18 2195.61,-375.01\"/>\n</g>\n<!-- 54 -->\n<g id=\"node43\" class=\"node\">\n<title>54</title>\n<polygon fill=\"#62b1ea\" stroke=\"black\" points=\"1725,-274 1578,-274 1578,-191 1725,-191 1725,-274\"/>\n<text text-anchor=\"middle\" x=\"1651.5\" y=\"-258.8\" font-family=\"Helvetica,sans-Serif\" font-size=\"14.00\">Age &lt;= 32.5</text>\n<text text-anchor=\"middle\" x=\"1651.5\" y=\"-243.8\" font-family=\"Helvetica,sans-Serif\" font-size=\"14.00\">gini = 0.286</text>\n<text text-anchor=\"middle\" x=\"1651.5\" y=\"-228.8\" font-family=\"Helvetica,sans-Serif\" font-size=\"14.00\">samples = 3</text>\n<text text-anchor=\"middle\" x=\"1651.5\" y=\"-213.8\" font-family=\"Helvetica,sans-Serif\" font-size=\"14.00\">value = [1.522, 7.292]</text>\n<text text-anchor=\"middle\" x=\"1651.5\" y=\"-198.8\" font-family=\"Helvetica,sans-Serif\" font-size=\"14.00\">class = Purchased</text>\n</g>\n<!-- 53&#45;&gt;54 -->\n<g id=\"edge42\" class=\"edge\">\n<title>53&#45;&gt;54</title>\n<path fill=\"none\" stroke=\"black\" d=\"M1712.89,-309.91C1705.67,-300.92 1697.95,-291.32 1690.51,-282.05\"/>\n<polygon fill=\"black\" stroke=\"black\" points=\"1693.05,-279.62 1684.06,-274.02 1687.59,-284.01 1693.05,-279.62\"/>\n</g>\n<!-- 59 -->\n<g id=\"node48\" class=\"node\">\n<title>59</title>\n<polygon fill=\"#e5f2fc\" stroke=\"black\" points=\"1936,-274 1743,-274 1743,-191 1936,-191 1936,-274\"/>\n<text text-anchor=\"middle\" x=\"1839.5\" y=\"-258.8\" font-family=\"Helvetica,sans-Serif\" font-size=\"14.00\">EstmatedSalary &lt;= 106000.0</text>\n<text text-anchor=\"middle\" x=\"1839.5\" y=\"-243.8\" font-family=\"Helvetica,sans-Serif\" font-size=\"14.00\">gini = 0.498</text>\n<text text-anchor=\"middle\" x=\"1839.5\" y=\"-228.8\" font-family=\"Helvetica,sans-Serif\" font-size=\"14.00\">samples = 3</text>\n<text text-anchor=\"middle\" x=\"1839.5\" y=\"-213.8\" font-family=\"Helvetica,sans-Serif\" font-size=\"14.00\">value = [3.804, 4.375]</text>\n<text text-anchor=\"middle\" x=\"1839.5\" y=\"-198.8\" font-family=\"Helvetica,sans-Serif\" font-size=\"14.00\">class = Purchased</text>\n</g>\n<!-- 53&#45;&gt;59 -->\n<g id=\"edge47\" class=\"edge\">\n<title>53&#45;&gt;59</title>\n<path fill=\"none\" stroke=\"black\" d=\"M1778.11,-309.91C1785.33,-300.92 1793.05,-291.32 1800.49,-282.05\"/>\n<polygon fill=\"black\" stroke=\"black\" points=\"1803.41,-284.01 1806.94,-274.02 1797.95,-279.62 1803.41,-284.01\"/>\n</g>\n<!-- 55 -->\n<g id=\"node44\" class=\"node\">\n<title>55</title>\n<polygon fill=\"#a0d0f3\" stroke=\"black\" points=\"1573,-155 1380,-155 1380,-72 1573,-72 1573,-155\"/>\n<text text-anchor=\"middle\" x=\"1476.5\" y=\"-139.8\" font-family=\"Helvetica,sans-Serif\" font-size=\"14.00\">EstmatedSalary &lt;= 108500.0</text>\n<text text-anchor=\"middle\" x=\"1476.5\" y=\"-124.8\" font-family=\"Helvetica,sans-Serif\" font-size=\"14.00\">gini = 0.451</text>\n<text text-anchor=\"middle\" x=\"1476.5\" y=\"-109.8\" font-family=\"Helvetica,sans-Serif\" font-size=\"14.00\">samples = 2</text>\n<text text-anchor=\"middle\" x=\"1476.5\" y=\"-94.8\" font-family=\"Helvetica,sans-Serif\" font-size=\"14.00\">value = [1.522, 2.917]</text>\n<text text-anchor=\"middle\" x=\"1476.5\" y=\"-79.8\" font-family=\"Helvetica,sans-Serif\" font-size=\"14.00\">class = Purchased</text>\n</g>\n<!-- 54&#45;&gt;55 -->\n<g id=\"edge43\" class=\"edge\">\n<title>54&#45;&gt;55</title>\n<path fill=\"none\" stroke=\"black\" d=\"M1590.78,-190.91C1576.26,-181.2 1560.65,-170.76 1545.77,-160.81\"/>\n<polygon fill=\"black\" stroke=\"black\" points=\"1547.37,-157.67 1537.11,-155.02 1543.48,-163.49 1547.37,-157.67\"/>\n</g>\n<!-- 58 -->\n<g id=\"node47\" class=\"node\">\n<title>58</title>\n<polygon fill=\"#399de5\" stroke=\"black\" points=\"1723.5,-147.5 1591.5,-147.5 1591.5,-79.5 1723.5,-79.5 1723.5,-147.5\"/>\n<text text-anchor=\"middle\" x=\"1657.5\" y=\"-132.3\" font-family=\"Helvetica,sans-Serif\" font-size=\"14.00\">gini = 0.0</text>\n<text text-anchor=\"middle\" x=\"1657.5\" y=\"-117.3\" font-family=\"Helvetica,sans-Serif\" font-size=\"14.00\">samples = 1</text>\n<text text-anchor=\"middle\" x=\"1657.5\" y=\"-102.3\" font-family=\"Helvetica,sans-Serif\" font-size=\"14.00\">value = [0.0, 4.375]</text>\n<text text-anchor=\"middle\" x=\"1657.5\" y=\"-87.3\" font-family=\"Helvetica,sans-Serif\" font-size=\"14.00\">class = Purchased</text>\n</g>\n<!-- 54&#45;&gt;58 -->\n<g id=\"edge46\" class=\"edge\">\n<title>54&#45;&gt;58</title>\n<path fill=\"none\" stroke=\"black\" d=\"M1653.58,-190.91C1654.13,-180.2 1654.72,-168.62 1655.28,-157.78\"/>\n<polygon fill=\"black\" stroke=\"black\" points=\"1658.78,-157.83 1655.8,-147.67 1651.79,-157.47 1658.78,-157.83\"/>\n</g>\n<!-- 56 -->\n<g id=\"node45\" class=\"node\">\n<title>56</title>\n<polygon fill=\"#c0c0c0\" stroke=\"black\" points=\"1481.5,-36 1427.5,-36 1427.5,0 1481.5,0 1481.5,-36\"/>\n<text text-anchor=\"middle\" x=\"1454.5\" y=\"-14.3\" font-family=\"Helvetica,sans-Serif\" font-size=\"14.00\">(...)</text>\n</g>\n<!-- 55&#45;&gt;56 -->\n<g id=\"edge44\" class=\"edge\">\n<title>55&#45;&gt;56</title>\n<path fill=\"none\" stroke=\"black\" d=\"M1466.91,-71.76C1464.89,-63.14 1462.79,-54.24 1460.91,-46.26\"/>\n<polygon fill=\"black\" stroke=\"black\" points=\"1464.29,-45.34 1458.6,-36.41 1457.48,-46.94 1464.29,-45.34\"/>\n</g>\n<!-- 57 -->\n<g id=\"node46\" class=\"node\">\n<title>57</title>\n<polygon fill=\"#c0c0c0\" stroke=\"black\" points=\"1553.5,-36 1499.5,-36 1499.5,0 1553.5,0 1553.5,-36\"/>\n<text text-anchor=\"middle\" x=\"1526.5\" y=\"-14.3\" font-family=\"Helvetica,sans-Serif\" font-size=\"14.00\">(...)</text>\n</g>\n<!-- 55&#45;&gt;57 -->\n<g id=\"edge45\" class=\"edge\">\n<title>55&#45;&gt;57</title>\n<path fill=\"none\" stroke=\"black\" d=\"M1498.29,-71.76C1503.05,-62.85 1507.98,-53.64 1512.35,-45.46\"/>\n<polygon fill=\"black\" stroke=\"black\" points=\"1515.56,-46.87 1517.19,-36.41 1509.39,-43.57 1515.56,-46.87\"/>\n</g>\n<!-- 60 -->\n<g id=\"node49\" class=\"node\">\n<title>60</title>\n<polygon fill=\"#7ebfee\" stroke=\"black\" points=\"1927,-155 1742,-155 1742,-72 1927,-72 1927,-155\"/>\n<text text-anchor=\"middle\" x=\"1834.5\" y=\"-139.8\" font-family=\"Helvetica,sans-Serif\" font-size=\"14.00\">EstmatedSalary &lt;= 92500.0</text>\n<text text-anchor=\"middle\" x=\"1834.5\" y=\"-124.8\" font-family=\"Helvetica,sans-Serif\" font-size=\"14.00\">gini = 0.383</text>\n<text text-anchor=\"middle\" x=\"1834.5\" y=\"-109.8\" font-family=\"Helvetica,sans-Serif\" font-size=\"14.00\">samples = 2</text>\n<text text-anchor=\"middle\" x=\"1834.5\" y=\"-94.8\" font-family=\"Helvetica,sans-Serif\" font-size=\"14.00\">value = [1.522, 4.375]</text>\n<text text-anchor=\"middle\" x=\"1834.5\" y=\"-79.8\" font-family=\"Helvetica,sans-Serif\" font-size=\"14.00\">class = Purchased</text>\n</g>\n<!-- 59&#45;&gt;60 -->\n<g id=\"edge48\" class=\"edge\">\n<title>59&#45;&gt;60</title>\n<path fill=\"none\" stroke=\"black\" d=\"M1837.77,-190.91C1837.41,-182.56 1837.03,-173.67 1836.66,-165.02\"/>\n<polygon fill=\"black\" stroke=\"black\" points=\"1840.16,-164.86 1836.23,-155.02 1833.16,-165.16 1840.16,-164.86\"/>\n</g>\n<!-- 63 -->\n<g id=\"node52\" class=\"node\">\n<title>63</title>\n<polygon fill=\"#e58139\" stroke=\"black\" points=\"2097.5,-147.5 1945.5,-147.5 1945.5,-79.5 2097.5,-79.5 2097.5,-147.5\"/>\n<text text-anchor=\"middle\" x=\"2021.5\" y=\"-132.3\" font-family=\"Helvetica,sans-Serif\" font-size=\"14.00\">gini = 0.0</text>\n<text text-anchor=\"middle\" x=\"2021.5\" y=\"-117.3\" font-family=\"Helvetica,sans-Serif\" font-size=\"14.00\">samples = 1</text>\n<text text-anchor=\"middle\" x=\"2021.5\" y=\"-102.3\" font-family=\"Helvetica,sans-Serif\" font-size=\"14.00\">value = [2.283, 0.0]</text>\n<text text-anchor=\"middle\" x=\"2021.5\" y=\"-87.3\" font-family=\"Helvetica,sans-Serif\" font-size=\"14.00\">class = Not Purchased</text>\n</g>\n<!-- 59&#45;&gt;63 -->\n<g id=\"edge51\" class=\"edge\">\n<title>59&#45;&gt;63</title>\n<path fill=\"none\" stroke=\"black\" d=\"M1902.64,-190.91C1921.7,-178.66 1942.55,-165.25 1961.4,-153.13\"/>\n<polygon fill=\"black\" stroke=\"black\" points=\"1963.39,-156.02 1969.91,-147.67 1959.6,-150.13 1963.39,-156.02\"/>\n</g>\n<!-- 61 -->\n<g id=\"node50\" class=\"node\">\n<title>61</title>\n<polygon fill=\"#c0c0c0\" stroke=\"black\" points=\"1825.5,-36 1771.5,-36 1771.5,0 1825.5,0 1825.5,-36\"/>\n<text text-anchor=\"middle\" x=\"1798.5\" y=\"-14.3\" font-family=\"Helvetica,sans-Serif\" font-size=\"14.00\">(...)</text>\n</g>\n<!-- 60&#45;&gt;61 -->\n<g id=\"edge49\" class=\"edge\">\n<title>60&#45;&gt;61</title>\n<path fill=\"none\" stroke=\"black\" d=\"M1818.81,-71.76C1815.46,-63.04 1811.99,-54.04 1808.89,-45.99\"/>\n<polygon fill=\"black\" stroke=\"black\" points=\"1812.06,-44.48 1805.2,-36.41 1805.53,-46.99 1812.06,-44.48\"/>\n</g>\n<!-- 62 -->\n<g id=\"node51\" class=\"node\">\n<title>62</title>\n<polygon fill=\"#c0c0c0\" stroke=\"black\" points=\"1897.5,-36 1843.5,-36 1843.5,0 1897.5,0 1897.5,-36\"/>\n<text text-anchor=\"middle\" x=\"1870.5\" y=\"-14.3\" font-family=\"Helvetica,sans-Serif\" font-size=\"14.00\">(...)</text>\n</g>\n<!-- 60&#45;&gt;62 -->\n<g id=\"edge50\" class=\"edge\">\n<title>60&#45;&gt;62</title>\n<path fill=\"none\" stroke=\"black\" d=\"M1850.19,-71.76C1853.54,-63.04 1857.01,-54.04 1860.11,-45.99\"/>\n<polygon fill=\"black\" stroke=\"black\" points=\"1863.47,-46.99 1863.8,-36.41 1856.94,-44.48 1863.47,-46.99\"/>\n</g>\n<!-- 65 -->\n<g id=\"node54\" class=\"node\">\n<title>65</title>\n<polygon fill=\"#3fa0e6\" stroke=\"black\" points=\"2360,-274 2205,-274 2205,-191 2360,-191 2360,-274\"/>\n<text text-anchor=\"middle\" x=\"2282.5\" y=\"-258.8\" font-family=\"Helvetica,sans-Serif\" font-size=\"14.00\">Age &lt;= 44.5</text>\n<text text-anchor=\"middle\" x=\"2282.5\" y=\"-243.8\" font-family=\"Helvetica,sans-Serif\" font-size=\"14.00\">gini = 0.058</text>\n<text text-anchor=\"middle\" x=\"2282.5\" y=\"-228.8\" font-family=\"Helvetica,sans-Serif\" font-size=\"14.00\">samples = 24</text>\n<text text-anchor=\"middle\" x=\"2282.5\" y=\"-213.8\" font-family=\"Helvetica,sans-Serif\" font-size=\"14.00\">value = [1.522, 49.583]</text>\n<text text-anchor=\"middle\" x=\"2282.5\" y=\"-198.8\" font-family=\"Helvetica,sans-Serif\" font-size=\"14.00\">class = Purchased</text>\n</g>\n<!-- 64&#45;&gt;65 -->\n<g id=\"edge53\" class=\"edge\">\n<title>64&#45;&gt;65</title>\n<path fill=\"none\" stroke=\"black\" d=\"M2282.5,-309.91C2282.5,-301.65 2282.5,-292.86 2282.5,-284.3\"/>\n<polygon fill=\"black\" stroke=\"black\" points=\"2286,-284.02 2282.5,-274.02 2279,-284.02 2286,-284.02\"/>\n</g>\n<!-- 76 -->\n<g id=\"node61\" class=\"node\">\n<title>76</title>\n<polygon fill=\"#5baeea\" stroke=\"black\" points=\"2659,-274 2466,-274 2466,-191 2659,-191 2659,-274\"/>\n<text text-anchor=\"middle\" x=\"2562.5\" y=\"-258.8\" font-family=\"Helvetica,sans-Serif\" font-size=\"14.00\">EstmatedSalary &lt;= 111000.0</text>\n<text text-anchor=\"middle\" x=\"2562.5\" y=\"-243.8\" font-family=\"Helvetica,sans-Serif\" font-size=\"14.00\">gini = 0.252</text>\n<text text-anchor=\"middle\" x=\"2562.5\" y=\"-228.8\" font-family=\"Helvetica,sans-Serif\" font-size=\"14.00\">samples = 11</text>\n<text text-anchor=\"middle\" x=\"2562.5\" y=\"-213.8\" font-family=\"Helvetica,sans-Serif\" font-size=\"14.00\">value = [3.043, 17.5]</text>\n<text text-anchor=\"middle\" x=\"2562.5\" y=\"-198.8\" font-family=\"Helvetica,sans-Serif\" font-size=\"14.00\">class = Purchased</text>\n</g>\n<!-- 64&#45;&gt;76 -->\n<g id=\"edge60\" class=\"edge\">\n<title>64&#45;&gt;76</title>\n<path fill=\"none\" stroke=\"black\" d=\"M2360.12,-318.06C2389.95,-305.6 2424.53,-291.15 2456.57,-277.76\"/>\n<polygon fill=\"black\" stroke=\"black\" points=\"2458.1,-280.92 2465.98,-273.83 2455.4,-274.46 2458.1,-280.92\"/>\n</g>\n<!-- 66 -->\n<g id=\"node55\" class=\"node\">\n<title>66</title>\n<polygon fill=\"#46a3e7\" stroke=\"black\" points=\"2271,-155 2116,-155 2116,-72 2271,-72 2271,-155\"/>\n<text text-anchor=\"middle\" x=\"2193.5\" y=\"-139.8\" font-family=\"Helvetica,sans-Serif\" font-size=\"14.00\">Age &lt;= 42.5</text>\n<text text-anchor=\"middle\" x=\"2193.5\" y=\"-124.8\" font-family=\"Helvetica,sans-Serif\" font-size=\"14.00\">gini = 0.115</text>\n<text text-anchor=\"middle\" x=\"2193.5\" y=\"-109.8\" font-family=\"Helvetica,sans-Serif\" font-size=\"14.00\">samples = 14</text>\n<text text-anchor=\"middle\" x=\"2193.5\" y=\"-94.8\" font-family=\"Helvetica,sans-Serif\" font-size=\"14.00\">value = [1.522, 23.333]</text>\n<text text-anchor=\"middle\" x=\"2193.5\" y=\"-79.8\" font-family=\"Helvetica,sans-Serif\" font-size=\"14.00\">class = Purchased</text>\n</g>\n<!-- 65&#45;&gt;66 -->\n<g id=\"edge54\" class=\"edge\">\n<title>65&#45;&gt;66</title>\n<path fill=\"none\" stroke=\"black\" d=\"M2251.62,-190.91C2244.79,-181.92 2237.48,-172.32 2230.43,-163.05\"/>\n<polygon fill=\"black\" stroke=\"black\" points=\"2233.16,-160.86 2224.32,-155.02 2227.59,-165.1 2233.16,-160.86\"/>\n</g>\n<!-- 73 -->\n<g id=\"node58\" class=\"node\">\n<title>73</title>\n<polygon fill=\"#399de5\" stroke=\"black\" points=\"2474,-155 2289,-155 2289,-72 2474,-72 2474,-155\"/>\n<text text-anchor=\"middle\" x=\"2381.5\" y=\"-139.8\" font-family=\"Helvetica,sans-Serif\" font-size=\"14.00\">EstmatedSalary &lt;= 88500.0</text>\n<text text-anchor=\"middle\" x=\"2381.5\" y=\"-124.8\" font-family=\"Helvetica,sans-Serif\" font-size=\"14.00\">gini = 0.0</text>\n<text text-anchor=\"middle\" x=\"2381.5\" y=\"-109.8\" font-family=\"Helvetica,sans-Serif\" font-size=\"14.00\">samples = 10</text>\n<text text-anchor=\"middle\" x=\"2381.5\" y=\"-94.8\" font-family=\"Helvetica,sans-Serif\" font-size=\"14.00\">value = [0.0, 26.25]</text>\n<text text-anchor=\"middle\" x=\"2381.5\" y=\"-79.8\" font-family=\"Helvetica,sans-Serif\" font-size=\"14.00\">class = Purchased</text>\n</g>\n<!-- 65&#45;&gt;73 -->\n<g id=\"edge57\" class=\"edge\">\n<title>65&#45;&gt;73</title>\n<path fill=\"none\" stroke=\"black\" d=\"M2316.85,-190.91C2324.53,-181.83 2332.74,-172.12 2340.66,-162.77\"/>\n<polygon fill=\"black\" stroke=\"black\" points=\"2343.43,-164.92 2347.21,-155.02 2338.08,-160.39 2343.43,-164.92\"/>\n</g>\n<!-- 67 -->\n<g id=\"node56\" class=\"node\">\n<title>67</title>\n<polygon fill=\"#c0c0c0\" stroke=\"black\" points=\"2184.5,-36 2130.5,-36 2130.5,0 2184.5,0 2184.5,-36\"/>\n<text text-anchor=\"middle\" x=\"2157.5\" y=\"-14.3\" font-family=\"Helvetica,sans-Serif\" font-size=\"14.00\">(...)</text>\n</g>\n<!-- 66&#45;&gt;67 -->\n<g id=\"edge55\" class=\"edge\">\n<title>66&#45;&gt;67</title>\n<path fill=\"none\" stroke=\"black\" d=\"M2177.81,-71.76C2174.46,-63.04 2170.99,-54.04 2167.89,-45.99\"/>\n<polygon fill=\"black\" stroke=\"black\" points=\"2171.06,-44.48 2164.2,-36.41 2164.53,-46.99 2171.06,-44.48\"/>\n</g>\n<!-- 72 -->\n<g id=\"node57\" class=\"node\">\n<title>72</title>\n<polygon fill=\"#c0c0c0\" stroke=\"black\" points=\"2256.5,-36 2202.5,-36 2202.5,0 2256.5,0 2256.5,-36\"/>\n<text text-anchor=\"middle\" x=\"2229.5\" y=\"-14.3\" font-family=\"Helvetica,sans-Serif\" font-size=\"14.00\">(...)</text>\n</g>\n<!-- 66&#45;&gt;72 -->\n<g id=\"edge56\" class=\"edge\">\n<title>66&#45;&gt;72</title>\n<path fill=\"none\" stroke=\"black\" d=\"M2209.19,-71.76C2212.54,-63.04 2216.01,-54.04 2219.11,-45.99\"/>\n<polygon fill=\"black\" stroke=\"black\" points=\"2222.47,-46.99 2222.8,-36.41 2215.94,-44.48 2222.47,-46.99\"/>\n</g>\n<!-- 74 -->\n<g id=\"node59\" class=\"node\">\n<title>74</title>\n<polygon fill=\"#c0c0c0\" stroke=\"black\" points=\"2386.5,-36 2332.5,-36 2332.5,0 2386.5,0 2386.5,-36\"/>\n<text text-anchor=\"middle\" x=\"2359.5\" y=\"-14.3\" font-family=\"Helvetica,sans-Serif\" font-size=\"14.00\">(...)</text>\n</g>\n<!-- 73&#45;&gt;74 -->\n<g id=\"edge58\" class=\"edge\">\n<title>73&#45;&gt;74</title>\n<path fill=\"none\" stroke=\"black\" d=\"M2371.91,-71.76C2369.89,-63.14 2367.79,-54.24 2365.91,-46.26\"/>\n<polygon fill=\"black\" stroke=\"black\" points=\"2369.29,-45.34 2363.6,-36.41 2362.48,-46.94 2369.29,-45.34\"/>\n</g>\n<!-- 75 -->\n<g id=\"node60\" class=\"node\">\n<title>75</title>\n<polygon fill=\"#c0c0c0\" stroke=\"black\" points=\"2458.5,-36 2404.5,-36 2404.5,0 2458.5,0 2458.5,-36\"/>\n<text text-anchor=\"middle\" x=\"2431.5\" y=\"-14.3\" font-family=\"Helvetica,sans-Serif\" font-size=\"14.00\">(...)</text>\n</g>\n<!-- 73&#45;&gt;75 -->\n<g id=\"edge59\" class=\"edge\">\n<title>73&#45;&gt;75</title>\n<path fill=\"none\" stroke=\"black\" d=\"M2403.29,-71.76C2408.05,-62.85 2412.98,-53.64 2417.35,-45.46\"/>\n<polygon fill=\"black\" stroke=\"black\" points=\"2420.56,-46.87 2422.19,-36.41 2414.39,-43.57 2420.56,-46.87\"/>\n</g>\n<!-- 77 -->\n<g id=\"node62\" class=\"node\">\n<title>77</title>\n<polygon fill=\"#399de5\" stroke=\"black\" points=\"2632.5,-147.5 2492.5,-147.5 2492.5,-79.5 2632.5,-79.5 2632.5,-147.5\"/>\n<text text-anchor=\"middle\" x=\"2562.5\" y=\"-132.3\" font-family=\"Helvetica,sans-Serif\" font-size=\"14.00\">gini = 0.0</text>\n<text text-anchor=\"middle\" x=\"2562.5\" y=\"-117.3\" font-family=\"Helvetica,sans-Serif\" font-size=\"14.00\">samples = 6</text>\n<text text-anchor=\"middle\" x=\"2562.5\" y=\"-102.3\" font-family=\"Helvetica,sans-Serif\" font-size=\"14.00\">value = [0.0, 11.667]</text>\n<text text-anchor=\"middle\" x=\"2562.5\" y=\"-87.3\" font-family=\"Helvetica,sans-Serif\" font-size=\"14.00\">class = Purchased</text>\n</g>\n<!-- 76&#45;&gt;77 -->\n<g id=\"edge61\" class=\"edge\">\n<title>76&#45;&gt;77</title>\n<path fill=\"none\" stroke=\"black\" d=\"M2562.5,-190.91C2562.5,-180.2 2562.5,-168.62 2562.5,-157.78\"/>\n<polygon fill=\"black\" stroke=\"black\" points=\"2566,-157.67 2562.5,-147.67 2559,-157.67 2566,-157.67\"/>\n</g>\n<!-- 78 -->\n<g id=\"node63\" class=\"node\">\n<title>78</title>\n<polygon fill=\"#a0d0f3\" stroke=\"black\" points=\"2798,-155 2651,-155 2651,-72 2798,-72 2798,-155\"/>\n<text text-anchor=\"middle\" x=\"2724.5\" y=\"-139.8\" font-family=\"Helvetica,sans-Serif\" font-size=\"14.00\">Age &lt;= 55.0</text>\n<text text-anchor=\"middle\" x=\"2724.5\" y=\"-124.8\" font-family=\"Helvetica,sans-Serif\" font-size=\"14.00\">gini = 0.451</text>\n<text text-anchor=\"middle\" x=\"2724.5\" y=\"-109.8\" font-family=\"Helvetica,sans-Serif\" font-size=\"14.00\">samples = 5</text>\n<text text-anchor=\"middle\" x=\"2724.5\" y=\"-94.8\" font-family=\"Helvetica,sans-Serif\" font-size=\"14.00\">value = [3.043, 5.833]</text>\n<text text-anchor=\"middle\" x=\"2724.5\" y=\"-79.8\" font-family=\"Helvetica,sans-Serif\" font-size=\"14.00\">class = Purchased</text>\n</g>\n<!-- 76&#45;&gt;78 -->\n<g id=\"edge62\" class=\"edge\">\n<title>76&#45;&gt;78</title>\n<path fill=\"none\" stroke=\"black\" d=\"M2618.71,-190.91C2632.02,-181.29 2646.33,-170.95 2659.99,-161.09\"/>\n<polygon fill=\"black\" stroke=\"black\" points=\"2662.34,-163.71 2668.39,-155.02 2658.24,-158.04 2662.34,-163.71\"/>\n</g>\n<!-- 79 -->\n<g id=\"node64\" class=\"node\">\n<title>79</title>\n<polygon fill=\"#c0c0c0\" stroke=\"black\" points=\"2715.5,-36 2661.5,-36 2661.5,0 2715.5,0 2715.5,-36\"/>\n<text text-anchor=\"middle\" x=\"2688.5\" y=\"-14.3\" font-family=\"Helvetica,sans-Serif\" font-size=\"14.00\">(...)</text>\n</g>\n<!-- 78&#45;&gt;79 -->\n<g id=\"edge63\" class=\"edge\">\n<title>78&#45;&gt;79</title>\n<path fill=\"none\" stroke=\"black\" d=\"M2708.81,-71.76C2705.46,-63.04 2701.99,-54.04 2698.89,-45.99\"/>\n<polygon fill=\"black\" stroke=\"black\" points=\"2702.06,-44.48 2695.2,-36.41 2695.53,-46.99 2702.06,-44.48\"/>\n</g>\n<!-- 82 -->\n<g id=\"node65\" class=\"node\">\n<title>82</title>\n<polygon fill=\"#c0c0c0\" stroke=\"black\" points=\"2787.5,-36 2733.5,-36 2733.5,0 2787.5,0 2787.5,-36\"/>\n<text text-anchor=\"middle\" x=\"2760.5\" y=\"-14.3\" font-family=\"Helvetica,sans-Serif\" font-size=\"14.00\">(...)</text>\n</g>\n<!-- 78&#45;&gt;82 -->\n<g id=\"edge64\" class=\"edge\">\n<title>78&#45;&gt;82</title>\n<path fill=\"none\" stroke=\"black\" d=\"M2740.19,-71.76C2743.54,-63.04 2747.01,-54.04 2750.11,-45.99\"/>\n<polygon fill=\"black\" stroke=\"black\" points=\"2753.47,-46.99 2753.8,-36.41 2746.94,-44.48 2753.47,-46.99\"/>\n</g>\n</g>\n</svg>\n"
          },
          "metadata": {},
          "execution_count": 372
        }
      ]
    },
    {
      "cell_type": "markdown",
      "metadata": {
        "id": "ExFSX84Hou9C"
      },
      "source": [
        "**Visualising the Test set results**"
      ]
    },
    {
      "cell_type": "code",
      "metadata": {
        "id": "zHbPz86Noj6d",
        "colab": {
          "base_uri": "https://localhost:8080/",
          "height": 1000
        },
        "outputId": "b8df76c7-48ad-45d5-d4fc-74c8234d7133"
      },
      "source": [
        "visual=tree.export_graphviz(randomforest.fit(x_test,y_pred).estimators_[99],feature_names=x_columns,class_names=y_columns,max_depth=5,filled=True)\n",
        "graphviz.Source(visual,format='png')"
      ],
      "execution_count": 373,
      "outputs": [
        {
          "output_type": "execute_result",
          "data": {
            "text/plain": [
              "<graphviz.files.Source at 0x7fed52994dc0>"
            ],
            "image/svg+xml": "<?xml version=\"1.0\" encoding=\"UTF-8\" standalone=\"no\"?>\n<!DOCTYPE svg PUBLIC \"-//W3C//DTD SVG 1.1//EN\"\n \"http://www.w3.org/Graphics/SVG/1.1/DTD/svg11.dtd\">\n<!-- Generated by graphviz version 2.43.0 (0)\n -->\n<!-- Title: Tree Pages: 1 -->\n<svg width=\"1059pt\" height=\"758pt\"\n viewBox=\"0.00 0.00 1059.00 758.00\" xmlns=\"http://www.w3.org/2000/svg\" xmlns:xlink=\"http://www.w3.org/1999/xlink\">\n<g id=\"graph0\" class=\"graph\" transform=\"scale(1 1) rotate(0) translate(4 754)\">\n<title>Tree</title>\n<polygon fill=\"white\" stroke=\"transparent\" points=\"-4,4 -4,-754 1055,-754 1055,4 -4,4\"/>\n<!-- 0 -->\n<g id=\"node1\" class=\"node\">\n<title>0</title>\n<polygon fill=\"#fefbf8\" stroke=\"black\" points=\"775.5,-750 590.5,-750 590.5,-667 775.5,-667 775.5,-750\"/>\n<text text-anchor=\"middle\" x=\"683\" y=\"-734.8\" font-family=\"Helvetica,sans-Serif\" font-size=\"14.00\">EstmatedSalary &lt;= 88500.0</text>\n<text text-anchor=\"middle\" x=\"683\" y=\"-719.8\" font-family=\"Helvetica,sans-Serif\" font-size=\"14.00\">gini = 0.5</text>\n<text text-anchor=\"middle\" x=\"683\" y=\"-704.8\" font-family=\"Helvetica,sans-Serif\" font-size=\"14.00\">samples = 76</text>\n<text text-anchor=\"middle\" x=\"683\" y=\"-689.8\" font-family=\"Helvetica,sans-Serif\" font-size=\"14.00\">value = [60.857, 58.8]</text>\n<text text-anchor=\"middle\" x=\"683\" y=\"-674.8\" font-family=\"Helvetica,sans-Serif\" font-size=\"14.00\">class = Not Purchased</text>\n</g>\n<!-- 1 -->\n<g id=\"node2\" class=\"node\">\n<title>1</title>\n<polygon fill=\"#f2bf9b\" stroke=\"black\" points=\"674.5,-631 489.5,-631 489.5,-548 674.5,-548 674.5,-631\"/>\n<text text-anchor=\"middle\" x=\"582\" y=\"-615.8\" font-family=\"Helvetica,sans-Serif\" font-size=\"14.00\">EstmatedSalary &lt;= 40500.0</text>\n<text text-anchor=\"middle\" x=\"582\" y=\"-600.8\" font-family=\"Helvetica,sans-Serif\" font-size=\"14.00\">gini = 0.442</text>\n<text text-anchor=\"middle\" x=\"582\" y=\"-585.8\" font-family=\"Helvetica,sans-Serif\" font-size=\"14.00\">samples = 62</text>\n<text text-anchor=\"middle\" x=\"582\" y=\"-570.8\" font-family=\"Helvetica,sans-Serif\" font-size=\"14.00\">value = [60.857, 30.0]</text>\n<text text-anchor=\"middle\" x=\"582\" y=\"-555.8\" font-family=\"Helvetica,sans-Serif\" font-size=\"14.00\">class = Not Purchased</text>\n</g>\n<!-- 0&#45;&gt;1 -->\n<g id=\"edge1\" class=\"edge\">\n<title>0&#45;&gt;1</title>\n<path fill=\"none\" stroke=\"black\" d=\"M647.96,-666.91C640.12,-657.83 631.74,-648.12 623.67,-638.77\"/>\n<polygon fill=\"black\" stroke=\"black\" points=\"626.16,-636.3 616.98,-631.02 620.86,-640.88 626.16,-636.3\"/>\n<text text-anchor=\"middle\" x=\"615.15\" y=\"-652.25\" font-family=\"Helvetica,sans-Serif\" font-size=\"14.00\">True</text>\n</g>\n<!-- 22 -->\n<g id=\"node21\" class=\"node\">\n<title>22</title>\n<polygon fill=\"#399de5\" stroke=\"black\" points=\"877.5,-631 692.5,-631 692.5,-548 877.5,-548 877.5,-631\"/>\n<text text-anchor=\"middle\" x=\"785\" y=\"-615.8\" font-family=\"Helvetica,sans-Serif\" font-size=\"14.00\">EstmatedSalary &lt;= 93000.0</text>\n<text text-anchor=\"middle\" x=\"785\" y=\"-600.8\" font-family=\"Helvetica,sans-Serif\" font-size=\"14.00\">gini = 0.0</text>\n<text text-anchor=\"middle\" x=\"785\" y=\"-585.8\" font-family=\"Helvetica,sans-Serif\" font-size=\"14.00\">samples = 14</text>\n<text text-anchor=\"middle\" x=\"785\" y=\"-570.8\" font-family=\"Helvetica,sans-Serif\" font-size=\"14.00\">value = [0.0, 28.8]</text>\n<text text-anchor=\"middle\" x=\"785\" y=\"-555.8\" font-family=\"Helvetica,sans-Serif\" font-size=\"14.00\">class = Purchased</text>\n</g>\n<!-- 0&#45;&gt;22 -->\n<g id=\"edge20\" class=\"edge\">\n<title>0&#45;&gt;22</title>\n<path fill=\"none\" stroke=\"black\" d=\"M718.39,-666.91C726.3,-657.83 734.77,-648.12 742.92,-638.77\"/>\n<polygon fill=\"black\" stroke=\"black\" points=\"745.74,-640.86 749.67,-631.02 740.46,-636.26 745.74,-640.86\"/>\n<text text-anchor=\"middle\" x=\"751.38\" y=\"-652.26\" font-family=\"Helvetica,sans-Serif\" font-size=\"14.00\">False</text>\n</g>\n<!-- 2 -->\n<g id=\"node3\" class=\"node\">\n<title>2</title>\n<polygon fill=\"#cfe7f9\" stroke=\"black\" points=\"478.5,-512 293.5,-512 293.5,-429 478.5,-429 478.5,-512\"/>\n<text text-anchor=\"middle\" x=\"386\" y=\"-496.8\" font-family=\"Helvetica,sans-Serif\" font-size=\"14.00\">EstmatedSalary &lt;= 22000.0</text>\n<text text-anchor=\"middle\" x=\"386\" y=\"-481.8\" font-family=\"Helvetica,sans-Serif\" font-size=\"14.00\">gini = 0.491</text>\n<text text-anchor=\"middle\" x=\"386\" y=\"-466.8\" font-family=\"Helvetica,sans-Serif\" font-size=\"14.00\">samples = 21</text>\n<text text-anchor=\"middle\" x=\"386\" y=\"-451.8\" font-family=\"Helvetica,sans-Serif\" font-size=\"14.00\">value = [14.571, 19.2]</text>\n<text text-anchor=\"middle\" x=\"386\" y=\"-436.8\" font-family=\"Helvetica,sans-Serif\" font-size=\"14.00\">class = Purchased</text>\n</g>\n<!-- 1&#45;&gt;2 -->\n<g id=\"edge2\" class=\"edge\">\n<title>1&#45;&gt;2</title>\n<path fill=\"none\" stroke=\"black\" d=\"M514,-547.91C497.43,-538.02 479.59,-527.37 462.65,-517.25\"/>\n<polygon fill=\"black\" stroke=\"black\" points=\"464.26,-514.14 453.88,-512.02 460.67,-520.15 464.26,-514.14\"/>\n</g>\n<!-- 9 -->\n<g id=\"node10\" class=\"node\">\n<title>9</title>\n<polygon fill=\"#eb9e67\" stroke=\"black\" points=\"681.5,-512 496.5,-512 496.5,-429 681.5,-429 681.5,-512\"/>\n<text text-anchor=\"middle\" x=\"589\" y=\"-496.8\" font-family=\"Helvetica,sans-Serif\" font-size=\"14.00\">EstmatedSalary &lt;= 59500.0</text>\n<text text-anchor=\"middle\" x=\"589\" y=\"-481.8\" font-family=\"Helvetica,sans-Serif\" font-size=\"14.00\">gini = 0.307</text>\n<text text-anchor=\"middle\" x=\"589\" y=\"-466.8\" font-family=\"Helvetica,sans-Serif\" font-size=\"14.00\">samples = 41</text>\n<text text-anchor=\"middle\" x=\"589\" y=\"-451.8\" font-family=\"Helvetica,sans-Serif\" font-size=\"14.00\">value = [46.286, 10.8]</text>\n<text text-anchor=\"middle\" x=\"589\" y=\"-436.8\" font-family=\"Helvetica,sans-Serif\" font-size=\"14.00\">class = Not Purchased</text>\n</g>\n<!-- 1&#45;&gt;9 -->\n<g id=\"edge9\" class=\"edge\">\n<title>1&#45;&gt;9</title>\n<path fill=\"none\" stroke=\"black\" d=\"M584.43,-547.91C584.93,-539.56 585.46,-530.67 585.98,-522.02\"/>\n<polygon fill=\"black\" stroke=\"black\" points=\"589.47,-522.21 586.58,-512.02 582.48,-521.79 589.47,-522.21\"/>\n</g>\n<!-- 3 -->\n<g id=\"node4\" class=\"node\">\n<title>3</title>\n<polygon fill=\"#e88f4e\" stroke=\"black\" points=\"308,-393 156,-393 156,-310 308,-310 308,-393\"/>\n<text text-anchor=\"middle\" x=\"232\" y=\"-377.8\" font-family=\"Helvetica,sans-Serif\" font-size=\"14.00\">Age &lt;= 37.0</text>\n<text text-anchor=\"middle\" x=\"232\" y=\"-362.8\" font-family=\"Helvetica,sans-Serif\" font-size=\"14.00\">gini = 0.176</text>\n<text text-anchor=\"middle\" x=\"232\" y=\"-347.8\" font-family=\"Helvetica,sans-Serif\" font-size=\"14.00\">samples = 8</text>\n<text text-anchor=\"middle\" x=\"232\" y=\"-332.8\" font-family=\"Helvetica,sans-Serif\" font-size=\"14.00\">value = [11.143, 1.2]</text>\n<text text-anchor=\"middle\" x=\"232\" y=\"-317.8\" font-family=\"Helvetica,sans-Serif\" font-size=\"14.00\">class = Not Purchased</text>\n</g>\n<!-- 2&#45;&gt;3 -->\n<g id=\"edge3\" class=\"edge\">\n<title>2&#45;&gt;3</title>\n<path fill=\"none\" stroke=\"black\" d=\"M332.57,-428.91C319.91,-419.29 306.31,-408.95 293.32,-399.09\"/>\n<polygon fill=\"black\" stroke=\"black\" points=\"295.42,-396.28 285.34,-393.02 291.18,-401.86 295.42,-396.28\"/>\n</g>\n<!-- 6 -->\n<g id=\"node7\" class=\"node\">\n<title>6</title>\n<polygon fill=\"#5fb0ea\" stroke=\"black\" points=\"466,-393 326,-393 326,-310 466,-310 466,-393\"/>\n<text text-anchor=\"middle\" x=\"396\" y=\"-377.8\" font-family=\"Helvetica,sans-Serif\" font-size=\"14.00\">Age &lt;= 36.5</text>\n<text text-anchor=\"middle\" x=\"396\" y=\"-362.8\" font-family=\"Helvetica,sans-Serif\" font-size=\"14.00\">gini = 0.269</text>\n<text text-anchor=\"middle\" x=\"396\" y=\"-347.8\" font-family=\"Helvetica,sans-Serif\" font-size=\"14.00\">samples = 13</text>\n<text text-anchor=\"middle\" x=\"396\" y=\"-332.8\" font-family=\"Helvetica,sans-Serif\" font-size=\"14.00\">value = [3.429, 18.0]</text>\n<text text-anchor=\"middle\" x=\"396\" y=\"-317.8\" font-family=\"Helvetica,sans-Serif\" font-size=\"14.00\">class = Purchased</text>\n</g>\n<!-- 2&#45;&gt;6 -->\n<g id=\"edge6\" class=\"edge\">\n<title>2&#45;&gt;6</title>\n<path fill=\"none\" stroke=\"black\" d=\"M389.47,-428.91C390.18,-420.56 390.94,-411.67 391.68,-403.02\"/>\n<polygon fill=\"black\" stroke=\"black\" points=\"395.17,-403.28 392.54,-393.02 388.2,-402.69 395.17,-403.28\"/>\n</g>\n<!-- 4 -->\n<g id=\"node5\" class=\"node\">\n<title>4</title>\n<polygon fill=\"#e58139\" stroke=\"black\" points=\"152,-266.5 0,-266.5 0,-198.5 152,-198.5 152,-266.5\"/>\n<text text-anchor=\"middle\" x=\"76\" y=\"-251.3\" font-family=\"Helvetica,sans-Serif\" font-size=\"14.00\">gini = 0.0</text>\n<text text-anchor=\"middle\" x=\"76\" y=\"-236.3\" font-family=\"Helvetica,sans-Serif\" font-size=\"14.00\">samples = 7</text>\n<text text-anchor=\"middle\" x=\"76\" y=\"-221.3\" font-family=\"Helvetica,sans-Serif\" font-size=\"14.00\">value = [11.143, 0.0]</text>\n<text text-anchor=\"middle\" x=\"76\" y=\"-206.3\" font-family=\"Helvetica,sans-Serif\" font-size=\"14.00\">class = Not Purchased</text>\n</g>\n<!-- 3&#45;&gt;4 -->\n<g id=\"edge4\" class=\"edge\">\n<title>3&#45;&gt;4</title>\n<path fill=\"none\" stroke=\"black\" d=\"M177.88,-309.91C161.84,-297.88 144.31,-284.73 128.39,-272.79\"/>\n<polygon fill=\"black\" stroke=\"black\" points=\"130.32,-269.87 120.22,-266.67 126.12,-275.47 130.32,-269.87\"/>\n</g>\n<!-- 5 -->\n<g id=\"node6\" class=\"node\">\n<title>5</title>\n<polygon fill=\"#399de5\" stroke=\"black\" points=\"298,-266.5 170,-266.5 170,-198.5 298,-198.5 298,-266.5\"/>\n<text text-anchor=\"middle\" x=\"234\" y=\"-251.3\" font-family=\"Helvetica,sans-Serif\" font-size=\"14.00\">gini = &#45;0.0</text>\n<text text-anchor=\"middle\" x=\"234\" y=\"-236.3\" font-family=\"Helvetica,sans-Serif\" font-size=\"14.00\">samples = 1</text>\n<text text-anchor=\"middle\" x=\"234\" y=\"-221.3\" font-family=\"Helvetica,sans-Serif\" font-size=\"14.00\">value = [0.0, 1.2]</text>\n<text text-anchor=\"middle\" x=\"234\" y=\"-206.3\" font-family=\"Helvetica,sans-Serif\" font-size=\"14.00\">class = Purchased</text>\n</g>\n<!-- 3&#45;&gt;5 -->\n<g id=\"edge5\" class=\"edge\">\n<title>3&#45;&gt;5</title>\n<path fill=\"none\" stroke=\"black\" d=\"M232.69,-309.91C232.88,-299.2 233.07,-287.62 233.26,-276.78\"/>\n<polygon fill=\"black\" stroke=\"black\" points=\"236.76,-276.73 233.43,-266.67 229.76,-276.61 236.76,-276.73\"/>\n</g>\n<!-- 7 -->\n<g id=\"node8\" class=\"node\">\n<title>7</title>\n<polygon fill=\"#e58139\" stroke=\"black\" points=\"471,-266.5 319,-266.5 319,-198.5 471,-198.5 471,-266.5\"/>\n<text text-anchor=\"middle\" x=\"395\" y=\"-251.3\" font-family=\"Helvetica,sans-Serif\" font-size=\"14.00\">gini = 0.0</text>\n<text text-anchor=\"middle\" x=\"395\" y=\"-236.3\" font-family=\"Helvetica,sans-Serif\" font-size=\"14.00\">samples = 2</text>\n<text text-anchor=\"middle\" x=\"395\" y=\"-221.3\" font-family=\"Helvetica,sans-Serif\" font-size=\"14.00\">value = [3.429, 0.0]</text>\n<text text-anchor=\"middle\" x=\"395\" y=\"-206.3\" font-family=\"Helvetica,sans-Serif\" font-size=\"14.00\">class = Not Purchased</text>\n</g>\n<!-- 6&#45;&gt;7 -->\n<g id=\"edge7\" class=\"edge\">\n<title>6&#45;&gt;7</title>\n<path fill=\"none\" stroke=\"black\" d=\"M395.65,-309.91C395.56,-299.2 395.46,-287.62 395.37,-276.78\"/>\n<polygon fill=\"black\" stroke=\"black\" points=\"398.87,-276.64 395.28,-266.67 391.87,-276.7 398.87,-276.64\"/>\n</g>\n<!-- 8 -->\n<g id=\"node9\" class=\"node\">\n<title>8</title>\n<polygon fill=\"#399de5\" stroke=\"black\" points=\"617,-266.5 489,-266.5 489,-198.5 617,-198.5 617,-266.5\"/>\n<text text-anchor=\"middle\" x=\"553\" y=\"-251.3\" font-family=\"Helvetica,sans-Serif\" font-size=\"14.00\">gini = 0.0</text>\n<text text-anchor=\"middle\" x=\"553\" y=\"-236.3\" font-family=\"Helvetica,sans-Serif\" font-size=\"14.00\">samples = 11</text>\n<text text-anchor=\"middle\" x=\"553\" y=\"-221.3\" font-family=\"Helvetica,sans-Serif\" font-size=\"14.00\">value = [0, 18]</text>\n<text text-anchor=\"middle\" x=\"553\" y=\"-206.3\" font-family=\"Helvetica,sans-Serif\" font-size=\"14.00\">class = Purchased</text>\n</g>\n<!-- 6&#45;&gt;8 -->\n<g id=\"edge8\" class=\"edge\">\n<title>6&#45;&gt;8</title>\n<path fill=\"none\" stroke=\"black\" d=\"M450.47,-309.91C466.61,-297.88 484.25,-284.73 500.28,-272.79\"/>\n<polygon fill=\"black\" stroke=\"black\" points=\"502.57,-275.45 508.49,-266.67 498.38,-269.84 502.57,-275.45\"/>\n</g>\n<!-- 10 -->\n<g id=\"node11\" class=\"node\">\n<title>10</title>\n<polygon fill=\"#e58139\" stroke=\"black\" points=\"655,-385.5 503,-385.5 503,-317.5 655,-317.5 655,-385.5\"/>\n<text text-anchor=\"middle\" x=\"579\" y=\"-370.3\" font-family=\"Helvetica,sans-Serif\" font-size=\"14.00\">gini = 0.0</text>\n<text text-anchor=\"middle\" x=\"579\" y=\"-355.3\" font-family=\"Helvetica,sans-Serif\" font-size=\"14.00\">samples = 17</text>\n<text text-anchor=\"middle\" x=\"579\" y=\"-340.3\" font-family=\"Helvetica,sans-Serif\" font-size=\"14.00\">value = [17.143, 0.0]</text>\n<text text-anchor=\"middle\" x=\"579\" y=\"-325.3\" font-family=\"Helvetica,sans-Serif\" font-size=\"14.00\">class = Not Purchased</text>\n</g>\n<!-- 9&#45;&gt;10 -->\n<g id=\"edge10\" class=\"edge\">\n<title>9&#45;&gt;10</title>\n<path fill=\"none\" stroke=\"black\" d=\"M585.53,-428.91C584.62,-418.2 583.63,-406.62 582.7,-395.78\"/>\n<polygon fill=\"black\" stroke=\"black\" points=\"586.17,-395.33 581.83,-385.67 579.2,-395.93 586.17,-395.33\"/>\n</g>\n<!-- 11 -->\n<g id=\"node12\" class=\"node\">\n<title>11</title>\n<polygon fill=\"#efb082\" stroke=\"black\" points=\"858.5,-393 673.5,-393 673.5,-310 858.5,-310 858.5,-393\"/>\n<text text-anchor=\"middle\" x=\"766\" y=\"-377.8\" font-family=\"Helvetica,sans-Serif\" font-size=\"14.00\">EstmatedSalary &lt;= 60500.0</text>\n<text text-anchor=\"middle\" x=\"766\" y=\"-362.8\" font-family=\"Helvetica,sans-Serif\" font-size=\"14.00\">gini = 0.395</text>\n<text text-anchor=\"middle\" x=\"766\" y=\"-347.8\" font-family=\"Helvetica,sans-Serif\" font-size=\"14.00\">samples = 24</text>\n<text text-anchor=\"middle\" x=\"766\" y=\"-332.8\" font-family=\"Helvetica,sans-Serif\" font-size=\"14.00\">value = [29.143, 10.8]</text>\n<text text-anchor=\"middle\" x=\"766\" y=\"-317.8\" font-family=\"Helvetica,sans-Serif\" font-size=\"14.00\">class = Not Purchased</text>\n</g>\n<!-- 9&#45;&gt;11 -->\n<g id=\"edge11\" class=\"edge\">\n<title>9&#45;&gt;11</title>\n<path fill=\"none\" stroke=\"black\" d=\"M650.41,-428.91C665.1,-419.2 680.89,-408.76 695.94,-398.81\"/>\n<polygon fill=\"black\" stroke=\"black\" points=\"698.29,-401.45 704.7,-393.02 694.43,-395.62 698.29,-401.45\"/>\n</g>\n<!-- 12 -->\n<g id=\"node13\" class=\"node\">\n<title>12</title>\n<polygon fill=\"#399de5\" stroke=\"black\" points=\"797,-266.5 669,-266.5 669,-198.5 797,-198.5 797,-266.5\"/>\n<text text-anchor=\"middle\" x=\"733\" y=\"-251.3\" font-family=\"Helvetica,sans-Serif\" font-size=\"14.00\">gini = 0.0</text>\n<text text-anchor=\"middle\" x=\"733\" y=\"-236.3\" font-family=\"Helvetica,sans-Serif\" font-size=\"14.00\">samples = 1</text>\n<text text-anchor=\"middle\" x=\"733\" y=\"-221.3\" font-family=\"Helvetica,sans-Serif\" font-size=\"14.00\">value = [0.0, 2.4]</text>\n<text text-anchor=\"middle\" x=\"733\" y=\"-206.3\" font-family=\"Helvetica,sans-Serif\" font-size=\"14.00\">class = Purchased</text>\n</g>\n<!-- 11&#45;&gt;12 -->\n<g id=\"edge12\" class=\"edge\">\n<title>11&#45;&gt;12</title>\n<path fill=\"none\" stroke=\"black\" d=\"M754.55,-309.91C751.5,-299.09 748.2,-287.38 745.11,-276.44\"/>\n<polygon fill=\"black\" stroke=\"black\" points=\"748.44,-275.34 742.35,-266.67 741.7,-277.24 748.44,-275.34\"/>\n</g>\n<!-- 13 -->\n<g id=\"node14\" class=\"node\">\n<title>13</title>\n<polygon fill=\"#eca572\" stroke=\"black\" points=\"967,-274 815,-274 815,-191 967,-191 967,-274\"/>\n<text text-anchor=\"middle\" x=\"891\" y=\"-258.8\" font-family=\"Helvetica,sans-Serif\" font-size=\"14.00\">Age &lt;= 44.0</text>\n<text text-anchor=\"middle\" x=\"891\" y=\"-243.8\" font-family=\"Helvetica,sans-Serif\" font-size=\"14.00\">gini = 0.347</text>\n<text text-anchor=\"middle\" x=\"891\" y=\"-228.8\" font-family=\"Helvetica,sans-Serif\" font-size=\"14.00\">samples = 23</text>\n<text text-anchor=\"middle\" x=\"891\" y=\"-213.8\" font-family=\"Helvetica,sans-Serif\" font-size=\"14.00\">value = [29.143, 8.4]</text>\n<text text-anchor=\"middle\" x=\"891\" y=\"-198.8\" font-family=\"Helvetica,sans-Serif\" font-size=\"14.00\">class = Not Purchased</text>\n</g>\n<!-- 11&#45;&gt;13 -->\n<g id=\"edge13\" class=\"edge\">\n<title>11&#45;&gt;13</title>\n<path fill=\"none\" stroke=\"black\" d=\"M809.37,-309.91C819.35,-300.56 830.06,-290.54 840.33,-280.93\"/>\n<polygon fill=\"black\" stroke=\"black\" points=\"842.8,-283.41 847.71,-274.02 838.02,-278.3 842.8,-283.41\"/>\n</g>\n<!-- 14 -->\n<g id=\"node15\" class=\"node\">\n<title>14</title>\n<polygon fill=\"#e78b49\" stroke=\"black\" points=\"895.5,-155 710.5,-155 710.5,-72 895.5,-72 895.5,-155\"/>\n<text text-anchor=\"middle\" x=\"803\" y=\"-139.8\" font-family=\"Helvetica,sans-Serif\" font-size=\"14.00\">EstmatedSalary &lt;= 79500.0</text>\n<text text-anchor=\"middle\" x=\"803\" y=\"-124.8\" font-family=\"Helvetica,sans-Serif\" font-size=\"14.00\">gini = 0.141</text>\n<text text-anchor=\"middle\" x=\"803\" y=\"-109.8\" font-family=\"Helvetica,sans-Serif\" font-size=\"14.00\">samples = 19</text>\n<text text-anchor=\"middle\" x=\"803\" y=\"-94.8\" font-family=\"Helvetica,sans-Serif\" font-size=\"14.00\">value = [29.143, 2.4]</text>\n<text text-anchor=\"middle\" x=\"803\" y=\"-79.8\" font-family=\"Helvetica,sans-Serif\" font-size=\"14.00\">class = Not Purchased</text>\n</g>\n<!-- 13&#45;&gt;14 -->\n<g id=\"edge14\" class=\"edge\">\n<title>13&#45;&gt;14</title>\n<path fill=\"none\" stroke=\"black\" d=\"M860.47,-190.91C853.71,-181.92 846.48,-172.32 839.52,-163.05\"/>\n<polygon fill=\"black\" stroke=\"black\" points=\"842.29,-160.91 833.48,-155.02 836.69,-165.12 842.29,-160.91\"/>\n</g>\n<!-- 19 -->\n<g id=\"node18\" class=\"node\">\n<title>19</title>\n<polygon fill=\"#399de5\" stroke=\"black\" points=\"1042,-155 914,-155 914,-72 1042,-72 1042,-155\"/>\n<text text-anchor=\"middle\" x=\"978\" y=\"-139.8\" font-family=\"Helvetica,sans-Serif\" font-size=\"14.00\">Age &lt;= 47.0</text>\n<text text-anchor=\"middle\" x=\"978\" y=\"-124.8\" font-family=\"Helvetica,sans-Serif\" font-size=\"14.00\">gini = 0.0</text>\n<text text-anchor=\"middle\" x=\"978\" y=\"-109.8\" font-family=\"Helvetica,sans-Serif\" font-size=\"14.00\">samples = 4</text>\n<text text-anchor=\"middle\" x=\"978\" y=\"-94.8\" font-family=\"Helvetica,sans-Serif\" font-size=\"14.00\">value = [0, 6]</text>\n<text text-anchor=\"middle\" x=\"978\" y=\"-79.8\" font-family=\"Helvetica,sans-Serif\" font-size=\"14.00\">class = Purchased</text>\n</g>\n<!-- 13&#45;&gt;19 -->\n<g id=\"edge17\" class=\"edge\">\n<title>13&#45;&gt;19</title>\n<path fill=\"none\" stroke=\"black\" d=\"M921.18,-190.91C927.86,-181.92 935.01,-172.32 941.9,-163.05\"/>\n<polygon fill=\"black\" stroke=\"black\" points=\"944.71,-165.13 947.87,-155.02 939.09,-160.96 944.71,-165.13\"/>\n</g>\n<!-- 15 -->\n<g id=\"node16\" class=\"node\">\n<title>15</title>\n<polygon fill=\"#c0c0c0\" stroke=\"black\" points=\"810,-36 756,-36 756,0 810,0 810,-36\"/>\n<text text-anchor=\"middle\" x=\"783\" y=\"-14.3\" font-family=\"Helvetica,sans-Serif\" font-size=\"14.00\">(...)</text>\n</g>\n<!-- 14&#45;&gt;15 -->\n<g id=\"edge15\" class=\"edge\">\n<title>14&#45;&gt;15</title>\n<path fill=\"none\" stroke=\"black\" d=\"M794.29,-71.76C792.44,-63.14 790.54,-54.24 788.83,-46.26\"/>\n<polygon fill=\"black\" stroke=\"black\" points=\"792.24,-45.45 786.72,-36.41 785.39,-46.92 792.24,-45.45\"/>\n</g>\n<!-- 16 -->\n<g id=\"node17\" class=\"node\">\n<title>16</title>\n<polygon fill=\"#c0c0c0\" stroke=\"black\" points=\"882,-36 828,-36 828,0 882,0 882,-36\"/>\n<text text-anchor=\"middle\" x=\"855\" y=\"-14.3\" font-family=\"Helvetica,sans-Serif\" font-size=\"14.00\">(...)</text>\n</g>\n<!-- 14&#45;&gt;16 -->\n<g id=\"edge16\" class=\"edge\">\n<title>14&#45;&gt;16</title>\n<path fill=\"none\" stroke=\"black\" d=\"M825.66,-71.76C830.67,-62.75 835.85,-53.44 840.43,-45.19\"/>\n<polygon fill=\"black\" stroke=\"black\" points=\"843.52,-46.85 845.32,-36.41 837.4,-43.44 843.52,-46.85\"/>\n</g>\n<!-- 20 -->\n<g id=\"node19\" class=\"node\">\n<title>20</title>\n<polygon fill=\"#c0c0c0\" stroke=\"black\" points=\"979,-36 925,-36 925,0 979,0 979,-36\"/>\n<text text-anchor=\"middle\" x=\"952\" y=\"-14.3\" font-family=\"Helvetica,sans-Serif\" font-size=\"14.00\">(...)</text>\n</g>\n<!-- 19&#45;&gt;20 -->\n<g id=\"edge18\" class=\"edge\">\n<title>19&#45;&gt;20</title>\n<path fill=\"none\" stroke=\"black\" d=\"M966.67,-71.76C964.27,-63.14 961.8,-54.24 959.58,-46.26\"/>\n<polygon fill=\"black\" stroke=\"black\" points=\"962.89,-45.1 956.84,-36.41 956.15,-46.98 962.89,-45.1\"/>\n</g>\n<!-- 21 -->\n<g id=\"node20\" class=\"node\">\n<title>21</title>\n<polygon fill=\"#c0c0c0\" stroke=\"black\" points=\"1051,-36 997,-36 997,0 1051,0 1051,-36\"/>\n<text text-anchor=\"middle\" x=\"1024\" y=\"-14.3\" font-family=\"Helvetica,sans-Serif\" font-size=\"14.00\">(...)</text>\n</g>\n<!-- 19&#45;&gt;21 -->\n<g id=\"edge19\" class=\"edge\">\n<title>19&#45;&gt;21</title>\n<path fill=\"none\" stroke=\"black\" d=\"M998.04,-71.76C1002.43,-62.85 1006.96,-53.64 1010.98,-45.46\"/>\n<polygon fill=\"black\" stroke=\"black\" points=\"1014.16,-46.92 1015.44,-36.41 1007.88,-43.83 1014.16,-46.92\"/>\n</g>\n<!-- 23 -->\n<g id=\"node22\" class=\"node\">\n<title>23</title>\n<polygon fill=\"#399de5\" stroke=\"black\" points=\"842,-504.5 714,-504.5 714,-436.5 842,-436.5 842,-504.5\"/>\n<text text-anchor=\"middle\" x=\"778\" y=\"-489.3\" font-family=\"Helvetica,sans-Serif\" font-size=\"14.00\">gini = 0.0</text>\n<text text-anchor=\"middle\" x=\"778\" y=\"-474.3\" font-family=\"Helvetica,sans-Serif\" font-size=\"14.00\">samples = 2</text>\n<text text-anchor=\"middle\" x=\"778\" y=\"-459.3\" font-family=\"Helvetica,sans-Serif\" font-size=\"14.00\">value = [0.0, 3.6]</text>\n<text text-anchor=\"middle\" x=\"778\" y=\"-444.3\" font-family=\"Helvetica,sans-Serif\" font-size=\"14.00\">class = Purchased</text>\n</g>\n<!-- 22&#45;&gt;23 -->\n<g id=\"edge21\" class=\"edge\">\n<title>22&#45;&gt;23</title>\n<path fill=\"none\" stroke=\"black\" d=\"M782.57,-547.91C781.93,-537.2 781.24,-525.62 780.59,-514.78\"/>\n<polygon fill=\"black\" stroke=\"black\" points=\"784.08,-514.44 779.98,-504.67 777.09,-514.86 784.08,-514.44\"/>\n</g>\n<!-- 24 -->\n<g id=\"node23\" class=\"node\">\n<title>24</title>\n<polygon fill=\"#399de5\" stroke=\"black\" points=\"988,-504.5 860,-504.5 860,-436.5 988,-436.5 988,-504.5\"/>\n<text text-anchor=\"middle\" x=\"924\" y=\"-489.3\" font-family=\"Helvetica,sans-Serif\" font-size=\"14.00\">gini = 0.0</text>\n<text text-anchor=\"middle\" x=\"924\" y=\"-474.3\" font-family=\"Helvetica,sans-Serif\" font-size=\"14.00\">samples = 12</text>\n<text text-anchor=\"middle\" x=\"924\" y=\"-459.3\" font-family=\"Helvetica,sans-Serif\" font-size=\"14.00\">value = [0.0, 25.2]</text>\n<text text-anchor=\"middle\" x=\"924\" y=\"-444.3\" font-family=\"Helvetica,sans-Serif\" font-size=\"14.00\">class = Purchased</text>\n</g>\n<!-- 22&#45;&gt;24 -->\n<g id=\"edge22\" class=\"edge\">\n<title>22&#45;&gt;24</title>\n<path fill=\"none\" stroke=\"black\" d=\"M833.23,-547.91C847.38,-535.99 862.85,-522.98 876.93,-511.12\"/>\n<polygon fill=\"black\" stroke=\"black\" points=\"879.2,-513.78 884.6,-504.67 874.69,-508.43 879.2,-513.78\"/>\n</g>\n</g>\n</svg>\n"
          },
          "metadata": {},
          "execution_count": 373
        }
      ]
    },
    {
      "cell_type": "markdown",
      "source": [
        "**Result and Conclusion**"
      ],
      "metadata": {
        "id": "FxegoGlZnFmG"
      }
    },
    {
      "cell_type": "markdown",
      "source": [
        "\n",
        "\n",
        "\n",
        "\n",
        "\n",
        "\n",
        "*   In this project, I build a Random Forest Classifier to predict the user\n",
        "  will purchased or not.\n",
        "\n",
        "*  The model accuracy score with 10 decision-trees is 0.9083 .\n",
        "\n",
        "*  I have used the Random Forest model to find only the important features so i used selector, build the model using these features and see its effect on accuracy.\n",
        "\n",
        "*  Selector removed the Gender variable from the model, so the accuracy score is 0.9083. \n",
        "\n",
        "*  At last i provide the Confusion matrix , classification report . finally train and test data visualized.\n",
        "\n"
      ],
      "metadata": {
        "id": "v_sPg0oKlvZi"
      }
    }
  ]
}